{
 "cells": [
  {
   "cell_type": "markdown",
   "id": "898e5751",
   "metadata": {},
   "source": [
    "## Exploring Decision Trees\n",
    "\n",
    "Decision trees work by splitting the data into *branches*. The branches are followed down to *leaves* where predictions are made. Below is a demonstration of building a decision tree model using cleaned census income dataset. We will try to predict wheter given person earns more than 50K or not."
   ]
  },
  {
   "cell_type": "code",
   "execution_count": 1,
   "id": "de16032a",
   "metadata": {},
   "outputs": [],
   "source": [
    "import pandas as pd\n",
    "import numpy as np\n",
    "import warnings\n",
    "\n",
    "warnings.filterwarnings('ignore')"
   ]
  },
  {
   "cell_type": "code",
   "execution_count": 2,
   "id": "7873563f",
   "metadata": {},
   "outputs": [
    {
     "data": {
      "text/html": [
       "<div>\n",
       "<style scoped>\n",
       "    .dataframe tbody tr th:only-of-type {\n",
       "        vertical-align: middle;\n",
       "    }\n",
       "\n",
       "    .dataframe tbody tr th {\n",
       "        vertical-align: top;\n",
       "    }\n",
       "\n",
       "    .dataframe thead th {\n",
       "        text-align: right;\n",
       "    }\n",
       "</style>\n",
       "<table border=\"1\" class=\"dataframe\">\n",
       "  <thead>\n",
       "    <tr style=\"text-align: right;\">\n",
       "      <th></th>\n",
       "      <th>age</th>\n",
       "      <th>fnlwgt</th>\n",
       "      <th>education-num</th>\n",
       "      <th>capital-gain</th>\n",
       "      <th>capital-loss</th>\n",
       "      <th>hours-per-week</th>\n",
       "      <th>workclass_ ?</th>\n",
       "      <th>workclass_ Federal-gov</th>\n",
       "      <th>workclass_ Local-gov</th>\n",
       "      <th>workclass_ Never-worked</th>\n",
       "      <th>...</th>\n",
       "      <th>native-country_ Puerto-Rico</th>\n",
       "      <th>native-country_ Scotland</th>\n",
       "      <th>native-country_ South</th>\n",
       "      <th>native-country_ Taiwan</th>\n",
       "      <th>native-country_ Thailand</th>\n",
       "      <th>native-country_ Trinadad&amp;Tobago</th>\n",
       "      <th>native-country_ United-States</th>\n",
       "      <th>native-country_ Vietnam</th>\n",
       "      <th>native-country_ Yugoslavia</th>\n",
       "      <th>income_ &gt;50K</th>\n",
       "    </tr>\n",
       "  </thead>\n",
       "  <tbody>\n",
       "    <tr>\n",
       "      <th>0</th>\n",
       "      <td>39</td>\n",
       "      <td>77516</td>\n",
       "      <td>13</td>\n",
       "      <td>2174</td>\n",
       "      <td>0</td>\n",
       "      <td>40</td>\n",
       "      <td>0</td>\n",
       "      <td>0</td>\n",
       "      <td>0</td>\n",
       "      <td>0</td>\n",
       "      <td>...</td>\n",
       "      <td>0</td>\n",
       "      <td>0</td>\n",
       "      <td>0</td>\n",
       "      <td>0</td>\n",
       "      <td>0</td>\n",
       "      <td>0</td>\n",
       "      <td>1</td>\n",
       "      <td>0</td>\n",
       "      <td>0</td>\n",
       "      <td>0</td>\n",
       "    </tr>\n",
       "    <tr>\n",
       "      <th>1</th>\n",
       "      <td>50</td>\n",
       "      <td>83311</td>\n",
       "      <td>13</td>\n",
       "      <td>0</td>\n",
       "      <td>0</td>\n",
       "      <td>13</td>\n",
       "      <td>0</td>\n",
       "      <td>0</td>\n",
       "      <td>0</td>\n",
       "      <td>0</td>\n",
       "      <td>...</td>\n",
       "      <td>0</td>\n",
       "      <td>0</td>\n",
       "      <td>0</td>\n",
       "      <td>0</td>\n",
       "      <td>0</td>\n",
       "      <td>0</td>\n",
       "      <td>1</td>\n",
       "      <td>0</td>\n",
       "      <td>0</td>\n",
       "      <td>0</td>\n",
       "    </tr>\n",
       "    <tr>\n",
       "      <th>2</th>\n",
       "      <td>38</td>\n",
       "      <td>215646</td>\n",
       "      <td>9</td>\n",
       "      <td>0</td>\n",
       "      <td>0</td>\n",
       "      <td>40</td>\n",
       "      <td>0</td>\n",
       "      <td>0</td>\n",
       "      <td>0</td>\n",
       "      <td>0</td>\n",
       "      <td>...</td>\n",
       "      <td>0</td>\n",
       "      <td>0</td>\n",
       "      <td>0</td>\n",
       "      <td>0</td>\n",
       "      <td>0</td>\n",
       "      <td>0</td>\n",
       "      <td>1</td>\n",
       "      <td>0</td>\n",
       "      <td>0</td>\n",
       "      <td>0</td>\n",
       "    </tr>\n",
       "    <tr>\n",
       "      <th>3</th>\n",
       "      <td>53</td>\n",
       "      <td>234721</td>\n",
       "      <td>7</td>\n",
       "      <td>0</td>\n",
       "      <td>0</td>\n",
       "      <td>40</td>\n",
       "      <td>0</td>\n",
       "      <td>0</td>\n",
       "      <td>0</td>\n",
       "      <td>0</td>\n",
       "      <td>...</td>\n",
       "      <td>0</td>\n",
       "      <td>0</td>\n",
       "      <td>0</td>\n",
       "      <td>0</td>\n",
       "      <td>0</td>\n",
       "      <td>0</td>\n",
       "      <td>1</td>\n",
       "      <td>0</td>\n",
       "      <td>0</td>\n",
       "      <td>0</td>\n",
       "    </tr>\n",
       "    <tr>\n",
       "      <th>4</th>\n",
       "      <td>28</td>\n",
       "      <td>338409</td>\n",
       "      <td>13</td>\n",
       "      <td>0</td>\n",
       "      <td>0</td>\n",
       "      <td>40</td>\n",
       "      <td>0</td>\n",
       "      <td>0</td>\n",
       "      <td>0</td>\n",
       "      <td>0</td>\n",
       "      <td>...</td>\n",
       "      <td>0</td>\n",
       "      <td>0</td>\n",
       "      <td>0</td>\n",
       "      <td>0</td>\n",
       "      <td>0</td>\n",
       "      <td>0</td>\n",
       "      <td>0</td>\n",
       "      <td>0</td>\n",
       "      <td>0</td>\n",
       "      <td>0</td>\n",
       "    </tr>\n",
       "  </tbody>\n",
       "</table>\n",
       "<p>5 rows × 93 columns</p>\n",
       "</div>"
      ],
      "text/plain": [
       "   age  fnlwgt  education-num  capital-gain  capital-loss  hours-per-week  \\\n",
       "0   39   77516             13          2174             0              40   \n",
       "1   50   83311             13             0             0              13   \n",
       "2   38  215646              9             0             0              40   \n",
       "3   53  234721              7             0             0              40   \n",
       "4   28  338409             13             0             0              40   \n",
       "\n",
       "   workclass_ ?  workclass_ Federal-gov  workclass_ Local-gov  \\\n",
       "0             0                       0                     0   \n",
       "1             0                       0                     0   \n",
       "2             0                       0                     0   \n",
       "3             0                       0                     0   \n",
       "4             0                       0                     0   \n",
       "\n",
       "   workclass_ Never-worked  ...  native-country_ Puerto-Rico  \\\n",
       "0                        0  ...                            0   \n",
       "1                        0  ...                            0   \n",
       "2                        0  ...                            0   \n",
       "3                        0  ...                            0   \n",
       "4                        0  ...                            0   \n",
       "\n",
       "   native-country_ Scotland  native-country_ South  native-country_ Taiwan  \\\n",
       "0                         0                      0                       0   \n",
       "1                         0                      0                       0   \n",
       "2                         0                      0                       0   \n",
       "3                         0                      0                       0   \n",
       "4                         0                      0                       0   \n",
       "\n",
       "   native-country_ Thailand  native-country_ Trinadad&Tobago  \\\n",
       "0                         0                                0   \n",
       "1                         0                                0   \n",
       "2                         0                                0   \n",
       "3                         0                                0   \n",
       "4                         0                                0   \n",
       "\n",
       "   native-country_ United-States  native-country_ Vietnam  \\\n",
       "0                              1                        0   \n",
       "1                              1                        0   \n",
       "2                              1                        0   \n",
       "3                              1                        0   \n",
       "4                              0                        0   \n",
       "\n",
       "   native-country_ Yugoslavia  income_ >50K  \n",
       "0                           0             0  \n",
       "1                           0             0  \n",
       "2                           0             0  \n",
       "3                           0             0  \n",
       "4                           0             0  \n",
       "\n",
       "[5 rows x 93 columns]"
      ]
     },
     "execution_count": 2,
     "metadata": {},
     "output_type": "execute_result"
    }
   ],
   "source": [
    "df_census = pd.read_csv(\"data/census_cleaned.csv\")\n",
    "df_census.head()"
   ]
  },
  {
   "cell_type": "code",
   "execution_count": 3,
   "id": "c10f0f0c",
   "metadata": {},
   "outputs": [],
   "source": [
    "# Declare predictor and target columns\n",
    "\n",
    "X = df_census.iloc[:, :-1]\n",
    "y = df_census.iloc[:, -1]"
   ]
  },
  {
   "cell_type": "code",
   "execution_count": 4,
   "id": "58f796e2",
   "metadata": {},
   "outputs": [],
   "source": [
    "from sklearn.model_selection import train_test_split\n",
    "X_train, X_test, y_train, y_test = train_test_split(X, y, random_state=2)"
   ]
  },
  {
   "cell_type": "code",
   "execution_count": 5,
   "id": "6c4aa9c9",
   "metadata": {},
   "outputs": [
    {
     "data": {
      "text/plain": [
       "0.8131679154894976"
      ]
     },
     "execution_count": 5,
     "metadata": {},
     "output_type": "execute_result"
    }
   ],
   "source": [
    "from sklearn.tree import DecisionTreeClassifier\n",
    "from sklearn.metrics import accuracy_score\n",
    "\n",
    "tree_clf = DecisionTreeClassifier(random_state=2)\n",
    "tree_clf.fit(X_train, y_train)\n",
    "\n",
    "y_pred_tree = tree_clf.predict(X_test)\n",
    "\n",
    "accuracy_score(y_test, y_pred_tree)"
   ]
  },
  {
   "cell_type": "markdown",
   "id": "b60788aa",
   "metadata": {},
   "source": [
    "*Note*: The `accuracy_score` determines the number of correct predictions divided by the total number of predictions. If 19 of 20 predictions are correct, the `accuracy_score` is 95%.\n",
    "\n",
    "An accuracy of 81% is comparable to the accuracy of Logistic Regression from the same dataset."
   ]
  },
  {
   "cell_type": "code",
   "execution_count": 6,
   "id": "54e5d9e3",
   "metadata": {},
   "outputs": [],
   "source": [
    "def display_tree(dt):\n",
    "    from six import StringIO\n",
    "    from IPython.display import Image\n",
    "    from sklearn.tree import export_graphviz\n",
    "    import pydotplus\n",
    "\n",
    "    dot_data = StringIO()\n",
    "    export_graphviz(dt, out_file=dot_data, \n",
    "        filled=True, \n",
    "        rounded=True, \n",
    "        special_characters=True)\n",
    "\n",
    "    graph = pydotplus.graph_from_dot_data(dot_data.getvalue())\n",
    "    return Image(graph.create_png())\n"
   ]
  },
  {
   "cell_type": "markdown",
   "id": "45f76b16",
   "metadata": {},
   "source": [
    "Now let's try with decision trees of depth 2 and visualize the internal workings of the tree."
   ]
  },
  {
   "cell_type": "code",
   "execution_count": 8,
   "id": "09b97ef2",
   "metadata": {},
   "outputs": [
    {
     "data": {
      "text/plain": [
       "0.8206608524751259"
      ]
     },
     "execution_count": 8,
     "metadata": {},
     "output_type": "execute_result"
    }
   ],
   "source": [
    "tree_clf_dp2 = DecisionTreeClassifier(max_depth=2, random_state=2)\n",
    "tree_clf_dp2.fit(X_train, y_train)\n",
    "\n",
    "y_pred_tree_dp2 = tree_clf_dp2.predict(X_test)\n",
    "\n",
    "accuracy_score(y_test, y_pred_tree_dp2)"
   ]
  },
  {
   "cell_type": "code",
   "execution_count": 10,
   "id": "12b4db08",
   "metadata": {},
   "outputs": [
    {
     "data": {
      "image/png": "[encoded data removed]",
      "text/plain": [
       "<IPython.core.display.Image object>"
      ]
     },
     "execution_count": 10,
     "metadata": {},
     "output_type": "execute_result"
    }
   ],
   "source": [
    "display_tree(tree_clf_dp2)"
   ]
  },
  {
   "cell_type": "code",
   "execution_count": 13,
   "id": "f6a91e31",
   "metadata": {},
   "outputs": [
    {
     "data": {
      "text/plain": [
       "Index(['marital-status_ Married-civ-spouse', 'capital-gain', 'education-num'], dtype='object')"
      ]
     },
     "execution_count": 13,
     "metadata": {},
     "output_type": "execute_result"
    }
   ],
   "source": [
    "# Relevant columns:\n",
    "df_census.columns[[17, 3, 2]]"
   ]
  },
  {
   "cell_type": "markdown",
   "id": "05e9725d",
   "metadata": {},
   "source": [
    "The top of the tree is the **root**, the **True/False** arrows are branches, and the data points are **nodes**. At the end of the tree, the nodes are classifies as **leaves**. \n",
    "\n",
    "**Root:** `marital-status_ Married-civ-spouse` is a binary column, so all values are **0** (negative) or **1** (positive). The first split is based on whether someone is married or not. The left side of the tree is the **True** branch, meaning the user is unmarried.\n",
    "\n",
    "**Gini Criterion:** Gini index implies how mixed is the dataset. The goal is to find a split that leads to lowest error. A Gini index of 0 means, the set is homogenous and not possible to make any errors. Highest the gini index, the more errors likely to occur due to mixed dataset. Likewisw, a gini index of 0.5 implies an equal distribution of elements, which means predictions are no better than random guessing. `1 - ((18575 / 24420)**2 + (5845 / 24420)**2)`\n",
    "\n",
    "**Samples, Values, Class:** The root of the tree states that there are 24420 samples, which is the total number of samples in the dataset. The list *[18575, 5845]* indicates that there are 18575 samples have a value of 0 (they make less than 50K), and 5845 have a value of 1 (they make more than 50K). \n",
    "\n",
    "**Leaves:** The nodes at the end of the tree are leaves. The leaves contain all final predictions. The far left leaf has a gini index of **0.093**, correctly predicting 12304 of 12936 cases, which is 95%. We are 95% confident that unmarried users with capital gains of less than 7,073.50 do not make more than 50K."
   ]
  },
  {
   "cell_type": "markdown",
   "id": "ae09e714",
   "metadata": {},
   "source": [
    "### Tuning Decision Tree Hyperparameters\n",
    "\n",
    "One of the best machine learning strategies to strike a nice balance between variance and bias is to fine-tune hyperparameters. The best way to learn about hyperparameters is through experimentation. Before selecting hyperparameters, let's start by finding a baseline socre using a *DecisionTreeRegressor*."
   ]
  },
  {
   "cell_type": "code",
   "execution_count": 15,
   "id": "6f6dac06",
   "metadata": {},
   "outputs": [
    {
     "data": {
      "text/html": [
       "<div>\n",
       "<style scoped>\n",
       "    .dataframe tbody tr th:only-of-type {\n",
       "        vertical-align: middle;\n",
       "    }\n",
       "\n",
       "    .dataframe tbody tr th {\n",
       "        vertical-align: top;\n",
       "    }\n",
       "\n",
       "    .dataframe thead th {\n",
       "        text-align: right;\n",
       "    }\n",
       "</style>\n",
       "<table border=\"1\" class=\"dataframe\">\n",
       "  <thead>\n",
       "    <tr style=\"text-align: right;\">\n",
       "      <th></th>\n",
       "      <th>instant</th>\n",
       "      <th>season</th>\n",
       "      <th>yr</th>\n",
       "      <th>mnth</th>\n",
       "      <th>holiday</th>\n",
       "      <th>weekday</th>\n",
       "      <th>workingday</th>\n",
       "      <th>weathersit</th>\n",
       "      <th>temp</th>\n",
       "      <th>atemp</th>\n",
       "      <th>hum</th>\n",
       "      <th>windspeed</th>\n",
       "      <th>cnt</th>\n",
       "    </tr>\n",
       "  </thead>\n",
       "  <tbody>\n",
       "    <tr>\n",
       "      <th>0</th>\n",
       "      <td>1</td>\n",
       "      <td>1.0</td>\n",
       "      <td>0.0</td>\n",
       "      <td>1.0</td>\n",
       "      <td>0.0</td>\n",
       "      <td>6.0</td>\n",
       "      <td>0.0</td>\n",
       "      <td>2</td>\n",
       "      <td>0.344167</td>\n",
       "      <td>0.363625</td>\n",
       "      <td>0.805833</td>\n",
       "      <td>0.160446</td>\n",
       "      <td>985</td>\n",
       "    </tr>\n",
       "    <tr>\n",
       "      <th>1</th>\n",
       "      <td>2</td>\n",
       "      <td>1.0</td>\n",
       "      <td>0.0</td>\n",
       "      <td>1.0</td>\n",
       "      <td>0.0</td>\n",
       "      <td>0.0</td>\n",
       "      <td>0.0</td>\n",
       "      <td>2</td>\n",
       "      <td>0.363478</td>\n",
       "      <td>0.353739</td>\n",
       "      <td>0.696087</td>\n",
       "      <td>0.248539</td>\n",
       "      <td>801</td>\n",
       "    </tr>\n",
       "    <tr>\n",
       "      <th>2</th>\n",
       "      <td>3</td>\n",
       "      <td>1.0</td>\n",
       "      <td>0.0</td>\n",
       "      <td>1.0</td>\n",
       "      <td>0.0</td>\n",
       "      <td>1.0</td>\n",
       "      <td>1.0</td>\n",
       "      <td>1</td>\n",
       "      <td>0.196364</td>\n",
       "      <td>0.189405</td>\n",
       "      <td>0.437273</td>\n",
       "      <td>0.248309</td>\n",
       "      <td>1349</td>\n",
       "    </tr>\n",
       "    <tr>\n",
       "      <th>3</th>\n",
       "      <td>4</td>\n",
       "      <td>1.0</td>\n",
       "      <td>0.0</td>\n",
       "      <td>1.0</td>\n",
       "      <td>0.0</td>\n",
       "      <td>2.0</td>\n",
       "      <td>1.0</td>\n",
       "      <td>1</td>\n",
       "      <td>0.200000</td>\n",
       "      <td>0.212122</td>\n",
       "      <td>0.590435</td>\n",
       "      <td>0.160296</td>\n",
       "      <td>1562</td>\n",
       "    </tr>\n",
       "    <tr>\n",
       "      <th>4</th>\n",
       "      <td>5</td>\n",
       "      <td>1.0</td>\n",
       "      <td>0.0</td>\n",
       "      <td>1.0</td>\n",
       "      <td>0.0</td>\n",
       "      <td>3.0</td>\n",
       "      <td>1.0</td>\n",
       "      <td>1</td>\n",
       "      <td>0.226957</td>\n",
       "      <td>0.229270</td>\n",
       "      <td>0.436957</td>\n",
       "      <td>0.186900</td>\n",
       "      <td>1600</td>\n",
       "    </tr>\n",
       "  </tbody>\n",
       "</table>\n",
       "</div>"
      ],
      "text/plain": [
       "   instant  season   yr  mnth  holiday  weekday  workingday  weathersit  \\\n",
       "0        1     1.0  0.0   1.0      0.0      6.0         0.0           2   \n",
       "1        2     1.0  0.0   1.0      0.0      0.0         0.0           2   \n",
       "2        3     1.0  0.0   1.0      0.0      1.0         1.0           1   \n",
       "3        4     1.0  0.0   1.0      0.0      2.0         1.0           1   \n",
       "4        5     1.0  0.0   1.0      0.0      3.0         1.0           1   \n",
       "\n",
       "       temp     atemp       hum  windspeed   cnt  \n",
       "0  0.344167  0.363625  0.805833   0.160446   985  \n",
       "1  0.363478  0.353739  0.696087   0.248539   801  \n",
       "2  0.196364  0.189405  0.437273   0.248309  1349  \n",
       "3  0.200000  0.212122  0.590435   0.160296  1562  \n",
       "4  0.226957  0.229270  0.436957   0.186900  1600  "
      ]
     },
     "execution_count": 15,
     "metadata": {},
     "output_type": "execute_result"
    }
   ],
   "source": [
    "# Load bike rentals cleaned version\n",
    "df_bikes = pd.read_csv(\"data/bike_rentals_cleaned.csv\")\n",
    "df_bikes.head()"
   ]
  },
  {
   "cell_type": "code",
   "execution_count": 16,
   "id": "f9332f0b",
   "metadata": {},
   "outputs": [
    {
     "data": {
      "text/plain": [
       "(731, 12)"
      ]
     },
     "execution_count": 16,
     "metadata": {},
     "output_type": "execute_result"
    }
   ],
   "source": [
    "# Determine the predictor and target columns - Target is to predict # of bikes rented for a given day\n",
    "X_bikes = df_bikes.iloc[:, :-1]\n",
    "y_bikes = df_bikes.iloc[:, -1]\n",
    "X_bikes.shape"
   ]
  },
  {
   "cell_type": "code",
   "execution_count": 17,
   "id": "23441d8a",
   "metadata": {},
   "outputs": [
    {
     "name": "stdout",
     "output_type": "stream",
     "text": [
      "RMSE mean: 1233.3556291959644\n"
     ]
    }
   ],
   "source": [
    "from sklearn.tree import DecisionTreeRegressor\n",
    "from sklearn.model_selection import cross_val_score\n",
    "\n",
    "dt_reg = DecisionTreeRegressor(random_state=2)\n",
    "\n",
    "scores = cross_val_score(dt_reg, X_bikes, y_bikes, scoring=\"neg_mean_squared_error\", cv=5)\n",
    "\n",
    "rmse = np.sqrt(-scores)\n",
    "print(f\"RMSE mean: {rmse.mean()}\")"
   ]
  },
  {
   "cell_type": "markdown",
   "id": "6a0d5ae9",
   "metadata": {},
   "source": [
    "The RMSE is **1233.35** which is worse than Linear Regression **(972.06)** and XGBoost **(887.31)** obtained in Part1.\n",
    "\n",
    "- Is the model overfitting the data because the variance is too high? -> To answer this question, inspect how well the decision tree makes predictions on the training set alone."
   ]
  },
  {
   "cell_type": "code",
   "execution_count": 55,
   "id": "cf711f86",
   "metadata": {},
   "outputs": [],
   "source": [
    "from sklearn.model_selection import train_test_split\n",
    "X_train, X_test, y_train, y_test = train_test_split(X_bikes, y_bikes, random_state=2)"
   ]
  },
  {
   "cell_type": "code",
   "execution_count": 56,
   "id": "f183b40d",
   "metadata": {},
   "outputs": [
    {
     "data": {
      "text/plain": [
       "0.0"
      ]
     },
     "execution_count": 56,
     "metadata": {},
     "output_type": "execute_result"
    }
   ],
   "source": [
    "from sklearn.metrics import mean_squared_error\n",
    "\n",
    "dt_reg_test = DecisionTreeRegressor(random_state=2)\n",
    "dt_reg_test.fit(X_train, y_train)\n",
    "\n",
    "y_pred_reg_test = dt_reg_test.predict(X_train)\n",
    "\n",
    "reg_mse = mean_squared_error(y_train, y_pred_reg_test)\n",
    "reg_rmse = np.sqrt(reg_mse)\n",
    "\n",
    "reg_rmse"
   ]
  },
  {
   "cell_type": "markdown",
   "id": "91cffed9",
   "metadata": {},
   "source": [
    "The result is **0.0**. A RMSE of 0 means that model has perfectly fit every data point. This perfect score combined with a cross-validation error of 1233.36 is proof that the decision tree is overfitting the data with high variance. \n",
    "- The training set fit perfectly, but the test set missed badly. \n",
    "\n",
    "We expect fine-tuning hyperparameters to rectify this situation. Important hyperparameters are: `max_depth`, `min_samples_leaf`, `max_leaf_nodes`, `max_features`, `min_samples_split`, `min_impurity_decrease`.\n",
    "\n",
    "Trying different values for each hyperparameter is a very time consuming job. `GridSearchCV` helps tp reduce this effort by searching a grid of hyperparameters supplied using cross validation to deliver the best results.\n",
    "\n",
    "*Tip: Generally speaking, decreasing max hyperparameters and increasing min hyperparameters will reduce variation and prevent overfitting.*"
   ]
  },
  {
   "cell_type": "markdown",
   "id": "fd7e0041",
   "metadata": {},
   "source": [
    "1. `max_depth` defines the depth of tree, determined by the number of times splits are made. By default there is no limit to maximum depth, so there may be hundred or thousands of splits that result in overfitting.\n",
    "    - By limiting max_depth to smaller numbers, variance is reduced, and the model generalizes better to new data.\n"
   ]
  },
  {
   "cell_type": "code",
   "execution_count": 57,
   "id": "6b8a5e57",
   "metadata": {},
   "outputs": [
    {
     "data": {
      "text/plain": [
       "GridSearchCV(cv=5, estimator=DecisionTreeRegressor(random_state=2), n_jobs=-1,\n",
       "             param_grid={'max_depth': [None, 2, 3, 4, 6, 8, 10, 20]},\n",
       "             scoring='neg_mean_squared_error')"
      ]
     },
     "execution_count": 57,
     "metadata": {},
     "output_type": "execute_result"
    }
   ],
   "source": [
    "from sklearn.model_selection import GridSearchCV\n",
    "\n",
    "params = { 'max_depth' : [None, 2, 3, 4, 6, 8, 10, 20]}\n",
    "\n",
    "tree_reg = DecisionTreeRegressor(random_state=2)\n",
    "\n",
    "grid_reg = GridSearchCV(tree_reg, params, scoring='neg_mean_squared_error', cv=5, n_jobs=-1)\n",
    "grid_reg.fit(X_train, y_train)"
   ]
  },
  {
   "cell_type": "code",
   "execution_count": 58,
   "id": "9e13df3e",
   "metadata": {},
   "outputs": [
    {
     "name": "stdout",
     "output_type": "stream",
     "text": [
      "Best Params: {'max_depth': 6}\n",
      "Training score: 951.3984508554636\n"
     ]
    }
   ],
   "source": [
    "best_params = grid_reg.best_params_\n",
    "print(f\"Best Params: {best_params}\")\n",
    "\n",
    "best_score = np.sqrt(-grid_reg.best_score_)\n",
    "print(f\"Training score: {best_score}\")\n"
   ]
  },
  {
   "cell_type": "code",
   "execution_count": 59,
   "id": "a88677b5",
   "metadata": {},
   "outputs": [
    {
     "name": "stdout",
     "output_type": "stream",
     "text": [
      "Test score: 864.6696975011638\n"
     ]
    }
   ],
   "source": [
    "best_model = grid_reg.best_estimator_\n",
    "\n",
    "y_pred = best_model.predict(X_test)\n",
    "\n",
    "rmse_test = np.sqrt(mean_squared_error(y_test, y_pred))\n",
    "print(f\"Test score: {rmse_test}\")"
   ]
  },
  {
   "cell_type": "markdown",
   "id": "9388c1df",
   "metadata": {},
   "source": [
    "Test score is now slightly improved.\n",
    "\n",
    "2. `min_samples_leaf` provides a restriction by increasing the number of samples that a leaf may have. As with **max_depth**, it is designed to reduce overfitting.\n",
    "    - When there are no restrictions, *min_samples_leaf=1* is the default, meaning that leaves may consist of unique samples. (prone to overfitting) Increasing this hyperparameter reduces variance. i.e, if set to 8, all leaves must contain eight or more samples.  "
   ]
  },
  {
   "cell_type": "code",
   "execution_count": 60,
   "id": "823a8fd0",
   "metadata": {},
   "outputs": [],
   "source": [
    "# Create custom grid search function\n",
    "def grid_search(params, reg=DecisionTreeRegressor(random_state=2)):\n",
    "\n",
    "    # Instantiate GridSearchCV as grid_reg\n",
    "    grid_reg = GridSearchCV(reg, params, scoring='neg_mean_squared_error', cv=5, n_jobs=-1)\n",
    "\n",
    "    # Fit grid_reg on X_train and y_train\n",
    "    grid_reg.fit(X_train, y_train)\n",
    "\n",
    "    # Extract best params\n",
    "    best_params = grid_reg.best_params_\n",
    "    print(f\"Best Params: {best_params}\")\n",
    "\n",
    "    # Compute the best score\n",
    "    best_score = np.sqrt(-grid_reg.best_score_)\n",
    "    print(f\"Training score: {best_score}\")\n",
    "\n",
    "    # Predict test set labels\n",
    "    y_pred = grid_reg.predict(X_test)\n",
    "\n",
    "    # Compute rmse_test\n",
    "    rmse_test = mean_squared_error(y_test, y_pred)**0.5\n",
    "    print(f\"Test score: {rmse_test}\")\n",
    "\n"
   ]
  },
  {
   "cell_type": "code",
   "execution_count": 61,
   "id": "3e44edf7",
   "metadata": {},
   "outputs": [
    {
     "name": "stdout",
     "output_type": "stream",
     "text": [
      "Best Params: {'min_samples_leaf': 8}\n",
      "Training score: 896.0830084423535\n",
      "Test score: 855.6195267278263\n"
     ]
    }
   ],
   "source": [
    "grid_search(params={'min_samples_leaf': [1, 2, 4, 6, 8, 10, 20, 30]})"
   ]
  },
  {
   "cell_type": "markdown",
   "id": "35b19a72",
   "metadata": {},
   "source": [
    "Since the test score is better than the training score, variance has been reduced.\n",
    "\n",
    "**In the hyperparameter tuning process, hyperparameters should not be chosen in isolation.Tuning several parameters together may give different results.**"
   ]
  },
  {
   "cell_type": "code",
   "execution_count": 63,
   "id": "d1b0aef2",
   "metadata": {},
   "outputs": [
    {
     "name": "stdout",
     "output_type": "stream",
     "text": [
      "Best Params: {'max_depth': 6, 'min_samples_leaf': 2}\n",
      "Training score: 870.3962060281716\n",
      "Test score: 912.9995795416623\n"
     ]
    }
   ],
   "source": [
    "grid_search(params={'max_depth' : [None, 2, 3, 4, 6, 8, 10, 20], \n",
    "                    'min_samples_leaf': [1, 2, 4, 6, 8, 10, 20, 30]})"
   ]
  },
  {
   "cell_type": "markdown",
   "id": "c9c20239",
   "metadata": {},
   "source": [
    "This result may be a surprise. Even though training score has improved, the test score has not. *min_samples_leaf* has decreased from 8 to 2, while *max_depth* has remained the same. \n",
    "- For reducing variance, limiting *min_samples_leaf* to values greater than 3 may help"
   ]
  },
  {
   "cell_type": "code",
   "execution_count": 62,
   "id": "33a229af",
   "metadata": {},
   "outputs": [
    {
     "name": "stdout",
     "output_type": "stream",
     "text": [
      "Best Params: {'max_depth': 9, 'min_samples_leaf': 7}\n",
      "Training score: 888.9047575735065\n",
      "Test score: 878.5376183361205\n"
     ]
    }
   ],
   "source": [
    "grid_search(params={'max_depth' : [6, 7, 8, 9, 10], \n",
    "                    'min_samples_leaf': [3, 5, 7, 9]})"
   ]
  },
  {
   "cell_type": "markdown",
   "id": "fac92702",
   "metadata": {},
   "source": [
    "As you can see, the test score has improved."
   ]
  },
  {
   "cell_type": "markdown",
   "id": "2491cd3a",
   "metadata": {},
   "source": [
    "## Putting All Together\n",
    "\n",
    "We will study with heart disease dataset to predict if disease exists. Job is to develop a model and highlight two or three important features that doctors can focus on to improve patient health.\n",
    "\n",
    "- The target column, conveniently labeled `'target'` is binary, with **1** indicating that the patient has heart disease and **0** indicating that they do not."
   ]
  },
  {
   "cell_type": "code",
   "execution_count": 64,
   "id": "9f422006",
   "metadata": {},
   "outputs": [
    {
     "data": {
      "text/html": [
       "<div>\n",
       "<style scoped>\n",
       "    .dataframe tbody tr th:only-of-type {\n",
       "        vertical-align: middle;\n",
       "    }\n",
       "\n",
       "    .dataframe tbody tr th {\n",
       "        vertical-align: top;\n",
       "    }\n",
       "\n",
       "    .dataframe thead th {\n",
       "        text-align: right;\n",
       "    }\n",
       "</style>\n",
       "<table border=\"1\" class=\"dataframe\">\n",
       "  <thead>\n",
       "    <tr style=\"text-align: right;\">\n",
       "      <th></th>\n",
       "      <th>age</th>\n",
       "      <th>sex</th>\n",
       "      <th>cp</th>\n",
       "      <th>trestbps</th>\n",
       "      <th>chol</th>\n",
       "      <th>fbs</th>\n",
       "      <th>restecg</th>\n",
       "      <th>thalach</th>\n",
       "      <th>exang</th>\n",
       "      <th>oldpeak</th>\n",
       "      <th>slope</th>\n",
       "      <th>ca</th>\n",
       "      <th>thal</th>\n",
       "      <th>target</th>\n",
       "    </tr>\n",
       "  </thead>\n",
       "  <tbody>\n",
       "    <tr>\n",
       "      <th>0</th>\n",
       "      <td>63</td>\n",
       "      <td>1</td>\n",
       "      <td>3</td>\n",
       "      <td>145</td>\n",
       "      <td>233</td>\n",
       "      <td>1</td>\n",
       "      <td>0</td>\n",
       "      <td>150</td>\n",
       "      <td>0</td>\n",
       "      <td>2.3</td>\n",
       "      <td>0</td>\n",
       "      <td>0</td>\n",
       "      <td>1</td>\n",
       "      <td>1</td>\n",
       "    </tr>\n",
       "    <tr>\n",
       "      <th>1</th>\n",
       "      <td>37</td>\n",
       "      <td>1</td>\n",
       "      <td>2</td>\n",
       "      <td>130</td>\n",
       "      <td>250</td>\n",
       "      <td>0</td>\n",
       "      <td>1</td>\n",
       "      <td>187</td>\n",
       "      <td>0</td>\n",
       "      <td>3.5</td>\n",
       "      <td>0</td>\n",
       "      <td>0</td>\n",
       "      <td>2</td>\n",
       "      <td>1</td>\n",
       "    </tr>\n",
       "    <tr>\n",
       "      <th>2</th>\n",
       "      <td>41</td>\n",
       "      <td>0</td>\n",
       "      <td>1</td>\n",
       "      <td>130</td>\n",
       "      <td>204</td>\n",
       "      <td>0</td>\n",
       "      <td>0</td>\n",
       "      <td>172</td>\n",
       "      <td>0</td>\n",
       "      <td>1.4</td>\n",
       "      <td>2</td>\n",
       "      <td>0</td>\n",
       "      <td>2</td>\n",
       "      <td>1</td>\n",
       "    </tr>\n",
       "    <tr>\n",
       "      <th>3</th>\n",
       "      <td>56</td>\n",
       "      <td>1</td>\n",
       "      <td>1</td>\n",
       "      <td>120</td>\n",
       "      <td>236</td>\n",
       "      <td>0</td>\n",
       "      <td>1</td>\n",
       "      <td>178</td>\n",
       "      <td>0</td>\n",
       "      <td>0.8</td>\n",
       "      <td>2</td>\n",
       "      <td>0</td>\n",
       "      <td>2</td>\n",
       "      <td>1</td>\n",
       "    </tr>\n",
       "    <tr>\n",
       "      <th>4</th>\n",
       "      <td>57</td>\n",
       "      <td>0</td>\n",
       "      <td>0</td>\n",
       "      <td>120</td>\n",
       "      <td>354</td>\n",
       "      <td>0</td>\n",
       "      <td>1</td>\n",
       "      <td>163</td>\n",
       "      <td>1</td>\n",
       "      <td>0.6</td>\n",
       "      <td>2</td>\n",
       "      <td>0</td>\n",
       "      <td>2</td>\n",
       "      <td>1</td>\n",
       "    </tr>\n",
       "  </tbody>\n",
       "</table>\n",
       "</div>"
      ],
      "text/plain": [
       "   age  sex  cp  trestbps  chol  fbs  restecg  thalach  exang  oldpeak  slope  \\\n",
       "0   63    1   3       145   233    1        0      150      0      2.3      0   \n",
       "1   37    1   2       130   250    0        1      187      0      3.5      0   \n",
       "2   41    0   1       130   204    0        0      172      0      1.4      2   \n",
       "3   56    1   1       120   236    0        1      178      0      0.8      2   \n",
       "4   57    0   0       120   354    0        1      163      1      0.6      2   \n",
       "\n",
       "   ca  thal  target  \n",
       "0   0     1       1  \n",
       "1   0     2       1  \n",
       "2   0     2       1  \n",
       "3   0     2       1  \n",
       "4   0     2       1  "
      ]
     },
     "execution_count": 64,
     "metadata": {},
     "output_type": "execute_result"
    }
   ],
   "source": [
    "# Load heart disease dataset and check for nullables\n",
    "df_heart = pd.read_csv(\"data/heart_disease.csv\")\n",
    "df_heart.head()"
   ]
  },
  {
   "cell_type": "code",
   "execution_count": 65,
   "id": "180d8913",
   "metadata": {},
   "outputs": [
    {
     "name": "stdout",
     "output_type": "stream",
     "text": [
      "<class 'pandas.core.frame.DataFrame'>\n",
      "RangeIndex: 303 entries, 0 to 302\n",
      "Data columns (total 14 columns):\n",
      " #   Column    Non-Null Count  Dtype  \n",
      "---  ------    --------------  -----  \n",
      " 0   age       303 non-null    int64  \n",
      " 1   sex       303 non-null    int64  \n",
      " 2   cp        303 non-null    int64  \n",
      " 3   trestbps  303 non-null    int64  \n",
      " 4   chol      303 non-null    int64  \n",
      " 5   fbs       303 non-null    int64  \n",
      " 6   restecg   303 non-null    int64  \n",
      " 7   thalach   303 non-null    int64  \n",
      " 8   exang     303 non-null    int64  \n",
      " 9   oldpeak   303 non-null    float64\n",
      " 10  slope     303 non-null    int64  \n",
      " 11  ca        303 non-null    int64  \n",
      " 12  thal      303 non-null    int64  \n",
      " 13  target    303 non-null    int64  \n",
      "dtypes: float64(1), int64(13)\n",
      "memory usage: 33.3 KB\n"
     ]
    }
   ],
   "source": [
    "df_heart.info()"
   ]
  },
  {
   "cell_type": "markdown",
   "id": "aea7b3aa",
   "metadata": {},
   "source": [
    "Data types seems fine (no non-numeric data type), also there seems to be no null values exists (all non-null counts are equal amongst columns). To double check:"
   ]
  },
  {
   "cell_type": "code",
   "execution_count": 66,
   "id": "77e30259",
   "metadata": {},
   "outputs": [
    {
     "data": {
      "text/plain": [
       "0"
      ]
     },
     "execution_count": 66,
     "metadata": {},
     "output_type": "execute_result"
    }
   ],
   "source": [
    "df_heart.isna().sum().sum()"
   ]
  },
  {
   "cell_type": "code",
   "execution_count": 67,
   "id": "004b2d20",
   "metadata": {},
   "outputs": [
    {
     "data": {
      "text/plain": [
       "(303, 13)"
      ]
     },
     "execution_count": 67,
     "metadata": {},
     "output_type": "execute_result"
    }
   ],
   "source": [
    "X = df_heart.iloc[:, :-1]\n",
    "y = df_heart.iloc[:, -1]\n",
    "\n",
    "X.shape"
   ]
  },
  {
   "cell_type": "code",
   "execution_count": 68,
   "id": "e2ae0ff7",
   "metadata": {},
   "outputs": [
    {
     "name": "stdout",
     "output_type": "stream",
     "text": [
      "Accuracy: [0.74 0.85 0.77 0.73 0.7 ]\n",
      "Accuracy mean: 0.7587978142076504\n"
     ]
    }
   ],
   "source": [
    "X_train, X_test, y_train, y_test = train_test_split(X, y, random_state=2)\n",
    "\n",
    "model = DecisionTreeClassifier(random_state=2)\n",
    "scores = cross_val_score(model, X, y, cv=5)\n",
    "\n",
    "print(f\"Accuracy: {np.round(scores, 2)}\")\n",
    "print(f\"Accuracy mean: {scores.mean()}\")"
   ]
  },
  {
   "cell_type": "markdown",
   "id": "cc102002",
   "metadata": {},
   "source": [
    "Initial accuracy is around 76%. Let's see what gains can be made with hyperparameter fine-tuning.\n",
    "\n",
    "When fine-tuning many hyperparameters, **GridSearchCV** can take too much time. The scikit-learn library provides **RandomizedSearchCV** as a wonderful alternative. \n",
    "- **RandomizedSearchCV** works in the same way as GridSearchCV, but instead of trying all hyperparameters, it tries a random number of combinations.Its meant to find the best combinations in limited time."
   ]
  },
  {
   "cell_type": "code",
   "execution_count": 69,
   "id": "1ab400b3",
   "metadata": {},
   "outputs": [],
   "source": [
    "from sklearn.model_selection import RandomizedSearchCV\n",
    "\n",
    "def randomized_search_clf(params, runs=20, clf=DecisionTreeClassifier(random_state=2)):\n",
    "    \n",
    "    # Instantiate RandomizedSearchCV as rand_clf\n",
    "    rand_clf = RandomizedSearchCV(clf, params, n_iter=runs, cv=5, n_jobs=-1, random_state=2)\n",
    "\n",
    "    # Fit rand_clf on X_train and y_train\n",
    "    rand_clf.fit(X_train, y_train)\n",
    "\n",
    "    # Extract best estimator\n",
    "    best_model = rand_clf.best_estimator_\n",
    "    \n",
    "    # Extract the best score\n",
    "    best_score = rand_clf.best_score_\n",
    "    print(f\"Training score: {best_score}\")\n",
    "\n",
    "    # Predict test set labels\n",
    "    y_pred = best_model.predict(X_test)\n",
    "\n",
    "    # Compute accuracy\n",
    "    accuracy = accuracy_score(y_test, y_pred)\n",
    "    print(f\"Test score: {accuracy}\")\n",
    "\n",
    "    return best_model"
   ]
  },
  {
   "cell_type": "markdown",
   "id": "3660358a",
   "metadata": {},
   "source": [
    "There is no single correct approach for choosing hyperparameters. Experimentation is the name of the game. "
   ]
  },
  {
   "cell_type": "code",
   "execution_count": 70,
   "id": "b440e22e",
   "metadata": {},
   "outputs": [
    {
     "name": "stdout",
     "output_type": "stream",
     "text": [
      "Training score: 0.7977777777777777\n",
      "Test score: 0.8552631578947368\n"
     ]
    },
    {
     "data": {
      "text/plain": [
       "DecisionTreeClassifier(criterion='entropy', max_depth=8, max_features=0.8,\n",
       "                       max_leaf_nodes=45, min_samples_leaf=0.04,\n",
       "                       min_samples_split=10, min_weight_fraction_leaf=0.05,\n",
       "                       random_state=2)"
      ]
     },
     "execution_count": 70,
     "metadata": {},
     "output_type": "execute_result"
    }
   ],
   "source": [
    "randomized_search_clf(params={'criterion':['entropy', 'gini'],\n",
    "                              'splitter':['random', 'best'],\n",
    "                          'min_weight_fraction_leaf':[0.0, 0.0025, 0.005, 0.0075, 0.01],\n",
    "                          'min_samples_split':[2, 3, 4, 5, 6, 8, 10],\n",
    "                          'min_samples_leaf':[1, 0.01, 0.02, 0.03, 0.04],\n",
    "                          'min_impurity_decrease':[0.0, 0.0005, 0.005, 0.05, 0.10, 0.15, 0.2],\n",
    "                          'max_leaf_nodes':[10, 15, 20, 25, 30, 35, 40, 45, 50, None],\n",
    "                          'max_features':['auto', 0.95, 0.90, 0.85, 0.80, 0.75, 0.70],\n",
    "                          'max_depth':[None, 2,4,6,8],\n",
    "                          'min_weight_fraction_leaf':[0.0, 0.0025, 0.005, 0.0075, 0.01, 0.05]\n",
    "                         })"
   ]
  },
  {
   "cell_type": "markdown",
   "id": "232f075e",
   "metadata": {},
   "source": [
    "This is a definite improvememnt, and the model generalizes well on the test set. Let's see if we can do better by narrowing the range.\n",
    "\n",
    "- Narrowing the range is one strategy to improve hyperparameters. As an example, using a baseline of **max_depth=8** chosen from the best model, we may narrow the range to from 7 to 9.\n",
    "\n",
    "- Another strategy is to stop checking hyperparameters whose defaults are working fine. Choosing **gini** as criterion, and *min_impurtiy_decrease* as their default is a good idea. "
   ]
  },
  {
   "cell_type": "code",
   "execution_count": 71,
   "id": "96b50db6",
   "metadata": {},
   "outputs": [
    {
     "name": "stdout",
     "output_type": "stream",
     "text": [
      "Training score: 0.8022222222222222\n",
      "Test score: 0.868421052631579\n"
     ]
    },
    {
     "data": {
      "text/plain": [
       "DecisionTreeClassifier(max_depth=7, max_features=0.78, max_leaf_nodes=45,\n",
       "                       min_samples_leaf=0.045, min_samples_split=9,\n",
       "                       min_weight_fraction_leaf=0.06, random_state=2)"
      ]
     },
     "execution_count": 71,
     "metadata": {},
     "output_type": "execute_result"
    }
   ],
   "source": [
    "randomized_search_clf(params={\n",
    "    'max_depth':[None, 6, 7],\n",
    "    'max_features':['auto', 0.78],\n",
    "    'max_leaf_nodes':[45, None],\n",
    "    'min_samples_leaf':[1, 0.035, 0.04, 0.045, 0.05],\n",
    "    'min_samples_split':[2, 9, 10],\n",
    "    'min_weight_fraction_leaf': [0.0, 0.05, 0.06, 0.07],\n",
    "    },\n",
    "    runs=100)"
   ]
  },
  {
   "cell_type": "markdown",
   "id": "6e21bee4",
   "metadata": {},
   "source": [
    "This model is more accurate in the training and test score. For a proper baseline of comparison, it's essential to put the new model into **cross_val_clf**. "
   ]
  },
  {
   "cell_type": "code",
   "execution_count": 74,
   "id": "45f3aa78",
   "metadata": {},
   "outputs": [
    {
     "name": "stdout",
     "output_type": "stream",
     "text": [
      "Accuracy: [0.82 0.9  0.8  0.8  0.78]\n",
      "Accuracy mean: 0.82\n"
     ]
    }
   ],
   "source": [
    "# Initialize Decision Tree Classifier\n",
    "model = DecisionTreeClassifier(class_weight=None, criterion='gini', max_depth=7,\n",
    "            max_features=0.78, max_leaf_nodes=45,\n",
    "            min_impurity_decrease=0.0,\n",
    "            min_samples_leaf=0.045, min_samples_split=9,\n",
    "            min_weight_fraction_leaf=0.06, random_state=2,\n",
    "            splitter='best')\n",
    "\n",
    "# Obtain scores of cross-validation\n",
    "scores = cross_val_score(model, X, y, cv=5)\n",
    "\n",
    "# Display accuracy\n",
    "print('Accuracy:', np.round(scores, 2))\n",
    "\n",
    "# Display mean accuracy\n",
    "print('Accuracy mean: %0.2f' % (scores.mean()))"
   ]
  },
  {
   "cell_type": "markdown",
   "id": "d2efc32c",
   "metadata": {},
   "source": [
    "This is 6 percentage points higher than the default model. When it comes to predicting heart disease, more accuracy can save lives.\n",
    "\n",
    "The final job is to communicate important features find by the model.\n",
    "\n",
    "- **When testing, it's important not to mix and match training and test sets. After a final model has been selected, however, fitting the model on the entire dataset can be beneficial. Because the goal is to test the model on data that has never been seen and fitting the model on the entire dataset may lead to additional gains in accuracy.**"
   ]
  },
  {
   "cell_type": "code",
   "execution_count": 75,
   "id": "b7eb9e10",
   "metadata": {},
   "outputs": [
    {
     "data": {
      "text/plain": [
       "DecisionTreeClassifier(max_depth=7, max_features=0.78, max_leaf_nodes=45,\n",
       "                       min_samples_leaf=0.045, min_samples_split=9,\n",
       "                       min_weight_fraction_leaf=0.06, random_state=2)"
      ]
     },
     "execution_count": 75,
     "metadata": {},
     "output_type": "execute_result"
    }
   ],
   "source": [
    "best_clf = DecisionTreeClassifier(class_weight=None, criterion='gini', max_depth=7,\n",
    "                       max_features=0.78, max_leaf_nodes=45,\n",
    "                       min_impurity_decrease=0.0,\n",
    "                       min_samples_leaf=0.045, min_samples_split=9,\n",
    "                       min_weight_fraction_leaf=0.06,\n",
    "                       random_state=2, splitter='best')\n",
    "best_clf.fit(X, y)\n"
   ]
  },
  {
   "cell_type": "code",
   "execution_count": 76,
   "id": "8b3b4707",
   "metadata": {},
   "outputs": [
    {
     "data": {
      "text/plain": [
       "array([0.04826754, 0.04081653, 0.48409586, 0.00568635, 0.        ,\n",
       "       0.        , 0.        , 0.00859483, 0.        , 0.02690379,\n",
       "       0.        , 0.18069065, 0.20494446])"
      ]
     },
     "execution_count": 76,
     "metadata": {},
     "output_type": "execute_result"
    }
   ],
   "source": [
    "best_clf.feature_importances_"
   ]
  },
  {
   "cell_type": "code",
   "execution_count": 78,
   "id": "18eafaff",
   "metadata": {},
   "outputs": [
    {
     "data": {
      "text/plain": [
       "[('cp', 0.4840958610240171),\n",
       " ('thal', 0.20494445570568706),\n",
       " ('ca', 0.18069065321397942)]"
      ]
     },
     "execution_count": 78,
     "metadata": {},
     "output_type": "execute_result"
    }
   ],
   "source": [
    "# Zip columns and feature_importances_ into dict\n",
    "feature_dict = dict(zip(X.columns, best_clf.feature_importances_))\n",
    "\n",
    "import operator\n",
    "\n",
    "# Sort dict by values (as list of tuples)\n",
    "sorted(feature_dict.items(), key=operator.itemgetter(1), reverse=True)[0:3]"
   ]
  },
  {
   "cell_type": "markdown",
   "id": "2a3c7ec7",
   "metadata": {},
   "source": [
    "The three most important features are as follows:\n",
    "\n",
    "- **cp**: Chest pain type (1 = typical angina, 2 = atypical angina, 3 = non-anginal pain, 4 = asymptomatic)\n",
    "- **thalach**: Maximum heart rate achieved\n",
    "- **ca**: Number of major vessels (0-3) colored by fluoroscopy\n",
    "\n",
    "These numbers may be interpreted as their explanation of variance, so **cp** accounts for 48% of the variance, which is more than **thal** and **ca**.\n",
    "\n",
    "*As a result, we can communicate that our model predicts if the patient has a heart disease with 82% accuracy using chest pain, maximum heart rate, and fluoroscopy as the three most important characteristics.*"
   ]
  }
 ],
 "metadata": {
  "kernelspec": {
   "display_name": "Python 3 (ipykernel)",
   "language": "python",
   "name": "python3"
  },
  "language_info": {
   "codemirror_mode": {
    "name": "ipython",
    "version": 3
   },
   "file_extension": ".py",
   "mimetype": "text/x-python",
   "name": "python",
   "nbconvert_exporter": "python",
   "pygments_lexer": "ipython3",
   "version": "3.8.0"
  }
 },
 "nbformat": 4,
 "nbformat_minor": 5
}
