{
 "cells": [
  {
   "cell_type": "markdown",
   "id": "b0d4f125",
   "metadata": {},
   "source": [
    "Random Forests, a leading competitor to XGBoost, are ensembles of decision trees. \n",
    "- The difference is that random forests combine trees via bagging, while XGBoost combines trees via boosting.\n",
    "\t\n",
    "Random Forests are important because they provide valuable insights into the structure of tree-based ensembles. A random forest may consist of hundreds or thosands of decision trees whose predictions are combined for the final result."
   ]
  },
  {
   "cell_type": "markdown",
   "id": "d06897ff",
   "metadata": {},
   "source": [
    "## Random Forest Classifiers\n",
    "\n",
    "Let's use a random forest classifier to predict whether a user makes more or less than 50,000$ using the census income dataset we cleaned and scored before."
   ]
  },
  {
   "cell_type": "code",
   "execution_count": 1,
   "id": "0375c28e",
   "metadata": {},
   "outputs": [],
   "source": [
    "import pandas as pd\n",
    "import numpy as np\n",
    "from sklearn.ensemble import RandomForestClassifier\n",
    "from sklearn.model_selection import cross_val_score\n",
    "import warnings\n",
    "\n",
    "warnings.filterwarnings('ignore')"
   ]
  },
  {
   "cell_type": "code",
   "execution_count": 2,
   "id": "22b955ab",
   "metadata": {},
   "outputs": [
    {
     "data": {
      "text/html": [
       "<div>\n",
       "<style scoped>\n",
       "    .dataframe tbody tr th:only-of-type {\n",
       "        vertical-align: middle;\n",
       "    }\n",
       "\n",
       "    .dataframe tbody tr th {\n",
       "        vertical-align: top;\n",
       "    }\n",
       "\n",
       "    .dataframe thead th {\n",
       "        text-align: right;\n",
       "    }\n",
       "</style>\n",
       "<table border=\"1\" class=\"dataframe\">\n",
       "  <thead>\n",
       "    <tr style=\"text-align: right;\">\n",
       "      <th></th>\n",
       "      <th>age</th>\n",
       "      <th>fnlwgt</th>\n",
       "      <th>education-num</th>\n",
       "      <th>capital-gain</th>\n",
       "      <th>capital-loss</th>\n",
       "      <th>hours-per-week</th>\n",
       "      <th>workclass_ ?</th>\n",
       "      <th>workclass_ Federal-gov</th>\n",
       "      <th>workclass_ Local-gov</th>\n",
       "      <th>workclass_ Never-worked</th>\n",
       "      <th>...</th>\n",
       "      <th>native-country_ Puerto-Rico</th>\n",
       "      <th>native-country_ Scotland</th>\n",
       "      <th>native-country_ South</th>\n",
       "      <th>native-country_ Taiwan</th>\n",
       "      <th>native-country_ Thailand</th>\n",
       "      <th>native-country_ Trinadad&amp;Tobago</th>\n",
       "      <th>native-country_ United-States</th>\n",
       "      <th>native-country_ Vietnam</th>\n",
       "      <th>native-country_ Yugoslavia</th>\n",
       "      <th>income_ &gt;50K</th>\n",
       "    </tr>\n",
       "  </thead>\n",
       "  <tbody>\n",
       "    <tr>\n",
       "      <th>0</th>\n",
       "      <td>39</td>\n",
       "      <td>77516</td>\n",
       "      <td>13</td>\n",
       "      <td>2174</td>\n",
       "      <td>0</td>\n",
       "      <td>40</td>\n",
       "      <td>0</td>\n",
       "      <td>0</td>\n",
       "      <td>0</td>\n",
       "      <td>0</td>\n",
       "      <td>...</td>\n",
       "      <td>0</td>\n",
       "      <td>0</td>\n",
       "      <td>0</td>\n",
       "      <td>0</td>\n",
       "      <td>0</td>\n",
       "      <td>0</td>\n",
       "      <td>1</td>\n",
       "      <td>0</td>\n",
       "      <td>0</td>\n",
       "      <td>0</td>\n",
       "    </tr>\n",
       "    <tr>\n",
       "      <th>1</th>\n",
       "      <td>50</td>\n",
       "      <td>83311</td>\n",
       "      <td>13</td>\n",
       "      <td>0</td>\n",
       "      <td>0</td>\n",
       "      <td>13</td>\n",
       "      <td>0</td>\n",
       "      <td>0</td>\n",
       "      <td>0</td>\n",
       "      <td>0</td>\n",
       "      <td>...</td>\n",
       "      <td>0</td>\n",
       "      <td>0</td>\n",
       "      <td>0</td>\n",
       "      <td>0</td>\n",
       "      <td>0</td>\n",
       "      <td>0</td>\n",
       "      <td>1</td>\n",
       "      <td>0</td>\n",
       "      <td>0</td>\n",
       "      <td>0</td>\n",
       "    </tr>\n",
       "    <tr>\n",
       "      <th>2</th>\n",
       "      <td>38</td>\n",
       "      <td>215646</td>\n",
       "      <td>9</td>\n",
       "      <td>0</td>\n",
       "      <td>0</td>\n",
       "      <td>40</td>\n",
       "      <td>0</td>\n",
       "      <td>0</td>\n",
       "      <td>0</td>\n",
       "      <td>0</td>\n",
       "      <td>...</td>\n",
       "      <td>0</td>\n",
       "      <td>0</td>\n",
       "      <td>0</td>\n",
       "      <td>0</td>\n",
       "      <td>0</td>\n",
       "      <td>0</td>\n",
       "      <td>1</td>\n",
       "      <td>0</td>\n",
       "      <td>0</td>\n",
       "      <td>0</td>\n",
       "    </tr>\n",
       "    <tr>\n",
       "      <th>3</th>\n",
       "      <td>53</td>\n",
       "      <td>234721</td>\n",
       "      <td>7</td>\n",
       "      <td>0</td>\n",
       "      <td>0</td>\n",
       "      <td>40</td>\n",
       "      <td>0</td>\n",
       "      <td>0</td>\n",
       "      <td>0</td>\n",
       "      <td>0</td>\n",
       "      <td>...</td>\n",
       "      <td>0</td>\n",
       "      <td>0</td>\n",
       "      <td>0</td>\n",
       "      <td>0</td>\n",
       "      <td>0</td>\n",
       "      <td>0</td>\n",
       "      <td>1</td>\n",
       "      <td>0</td>\n",
       "      <td>0</td>\n",
       "      <td>0</td>\n",
       "    </tr>\n",
       "    <tr>\n",
       "      <th>4</th>\n",
       "      <td>28</td>\n",
       "      <td>338409</td>\n",
       "      <td>13</td>\n",
       "      <td>0</td>\n",
       "      <td>0</td>\n",
       "      <td>40</td>\n",
       "      <td>0</td>\n",
       "      <td>0</td>\n",
       "      <td>0</td>\n",
       "      <td>0</td>\n",
       "      <td>...</td>\n",
       "      <td>0</td>\n",
       "      <td>0</td>\n",
       "      <td>0</td>\n",
       "      <td>0</td>\n",
       "      <td>0</td>\n",
       "      <td>0</td>\n",
       "      <td>0</td>\n",
       "      <td>0</td>\n",
       "      <td>0</td>\n",
       "      <td>0</td>\n",
       "    </tr>\n",
       "  </tbody>\n",
       "</table>\n",
       "<p>5 rows × 93 columns</p>\n",
       "</div>"
      ],
      "text/plain": [
       "   age  fnlwgt  education-num  capital-gain  capital-loss  hours-per-week  \\\n",
       "0   39   77516             13          2174             0              40   \n",
       "1   50   83311             13             0             0              13   \n",
       "2   38  215646              9             0             0              40   \n",
       "3   53  234721              7             0             0              40   \n",
       "4   28  338409             13             0             0              40   \n",
       "\n",
       "   workclass_ ?  workclass_ Federal-gov  workclass_ Local-gov  \\\n",
       "0             0                       0                     0   \n",
       "1             0                       0                     0   \n",
       "2             0                       0                     0   \n",
       "3             0                       0                     0   \n",
       "4             0                       0                     0   \n",
       "\n",
       "   workclass_ Never-worked  ...  native-country_ Puerto-Rico  \\\n",
       "0                        0  ...                            0   \n",
       "1                        0  ...                            0   \n",
       "2                        0  ...                            0   \n",
       "3                        0  ...                            0   \n",
       "4                        0  ...                            0   \n",
       "\n",
       "   native-country_ Scotland  native-country_ South  native-country_ Taiwan  \\\n",
       "0                         0                      0                       0   \n",
       "1                         0                      0                       0   \n",
       "2                         0                      0                       0   \n",
       "3                         0                      0                       0   \n",
       "4                         0                      0                       0   \n",
       "\n",
       "   native-country_ Thailand  native-country_ Trinadad&Tobago  \\\n",
       "0                         0                                0   \n",
       "1                         0                                0   \n",
       "2                         0                                0   \n",
       "3                         0                                0   \n",
       "4                         0                                0   \n",
       "\n",
       "   native-country_ United-States  native-country_ Vietnam  \\\n",
       "0                              1                        0   \n",
       "1                              1                        0   \n",
       "2                              1                        0   \n",
       "3                              1                        0   \n",
       "4                              0                        0   \n",
       "\n",
       "   native-country_ Yugoslavia  income_ >50K  \n",
       "0                           0             0  \n",
       "1                           0             0  \n",
       "2                           0             0  \n",
       "3                           0             0  \n",
       "4                           0             0  \n",
       "\n",
       "[5 rows x 93 columns]"
      ]
     },
     "execution_count": 2,
     "metadata": {},
     "output_type": "execute_result"
    }
   ],
   "source": [
    "df_census = pd.read_csv(\"data/census_cleaned.csv\")\n",
    "df_census.head()"
   ]
  },
  {
   "cell_type": "code",
   "execution_count": 10,
   "id": "ed06a83e",
   "metadata": {},
   "outputs": [
    {
     "name": "stdout",
     "output_type": "stream",
     "text": [
      "Accuracy: [0.851 0.844 0.851 0.852 0.851]\n",
      "Accuracy mean: 0.85\n"
     ]
    }
   ],
   "source": [
    "X_census = df_census.iloc[:, :-1]\n",
    "y_census = df_census.iloc[:, -1]\n",
    "\n",
    "# n_estimators=10, a previous scikit-learn default sufficient to speed up computations\n",
    "rf_cls = RandomForestClassifier(n_estimators=10, random_state=2, n_jobs=-1)\n",
    "\n",
    "# cross_val_score splits, fits, and scores the data\n",
    "scores = cross_val_score(rf_cls, X_census, y_census, cv=5)\n",
    "\n",
    "print(f\"Accuracy: {np.round(scores, 3)}\")\n",
    "print(f\"Accuracy mean: {np.round(scores.mean(), 3)}\")"
   ]
  },
  {
   "cell_type": "markdown",
   "id": "a8dce738",
   "metadata": {},
   "source": [
    "The default random forest classifier provides a better score for the census income dataset than the decision tree in the previous chapter (81%), but not quite good as XGBoost in Chapter 1 (86%).\n",
    "\n",
    "- Improved performance is likely due to the bagging method. With 10 trees in this forest, each prediction is based on 10 decision trees instead of 1. The trees are bootstrapped, which increases diversity, and aggregated, which reduces variance.\n",
    "\n",
    "\n",
    "By default, random forest classifier select from the **square root of the total number of features** when looking for a split. So if there are 100 features, each decision tree will only consider 10 features when choosing a split. Thus two trees with duplicate samples may give very different predictions due to different splits. This is another way that random forests reduce variance. "
   ]
  },
  {
   "cell_type": "markdown",
   "id": "c837a2b5",
   "metadata": {},
   "source": [
    "## Random Forest Regressors\n",
    "\n",
    "In a random forest regressor, the samples are bootstrapped, as with the random forest classifier, but the max number of features is the total number of features instead of square root.\n",
    "\n",
    "Furthermore, the final prediction is made by taking the average of the predictions of all the trees, instead of a majority rules vote."
   ]
  },
  {
   "cell_type": "code",
   "execution_count": 11,
   "id": "b13a413d",
   "metadata": {},
   "outputs": [],
   "source": [
    "df_bikes = pd.read_csv(\"data/bike_rentals_cleaned.csv\")\n",
    "\n",
    "X_bikes = df_bikes.iloc[:, :-1]\n",
    "y_bikes = df_bikes.iloc[:, -1]"
   ]
  },
  {
   "cell_type": "code",
   "execution_count": 12,
   "id": "81e3c918",
   "metadata": {},
   "outputs": [
    {
     "name": "stdout",
     "output_type": "stream",
     "text": [
      "Scores: [ -642379.50405405  -336385.43917808  -303983.22164384  -716896.97890411\n",
      "  -801114.29821918 -1204553.53780822  -798768.03575342  -654941.32013699\n",
      "  -694701.78232877 -4601222.85260274]\n",
      "RMSE:  [ 801.486  579.987  551.347  846.698  895.05  1097.522  893.738  809.284\n",
      "  833.488 2145.046]\n",
      "RMSE mean:  945.365\n"
     ]
    }
   ],
   "source": [
    "from sklearn.ensemble import RandomForestRegressor\n",
    "\n",
    "rf_reg = RandomForestRegressor(n_estimators=10, random_state=2, n_jobs=-1)\n",
    "\n",
    "scores = cross_val_score(rf_reg, X_bikes, y_bikes, scoring=\"neg_mean_squared_error\", cv=10)\n",
    "\n",
    "print(f\"Scores: {scores}\")\n",
    "rmse = np.sqrt(-scores)\n",
    "\n",
    "print(f\"RMSE: \", np.round(rmse, 3))\n",
    "print(f\"RMSE mean: \", np.round(rmse.mean(), 3))"
   ]
  },
  {
   "cell_type": "markdown",
   "id": "f82e0196",
   "metadata": {},
   "source": [
    "The random forest performs respectably (min-max NormalizedRMSE 0.108), though not as well as other models that we have seen. Linear Regression (min-max NormalizedRMSE 0.103), and XGBoost Regressor (min-max NormalizedRMSE 0.080)"
   ]
  },
  {
   "cell_type": "markdown",
   "id": "4e280be1",
   "metadata": {},
   "source": [
    "## Random Forest Hyperparameters\n",
    "\n",
    "The range of random forest hyperparameters is large. (Inheriting all the ones from decision trees also.) "
   ]
  },
  {
   "cell_type": "markdown",
   "id": "84815a2d",
   "metadata": {},
   "source": [
    "#### `oob_score`\n",
    "\n",
    "Random Forests select decision trees via bagging, meaning that samples are selected with replacement. After all of the samples have been chosen, some samples should remain as **not chosen**. It is possible to hold back these samples as the **test set**.\n",
    "- After the model is fit on one tree, the model can immediately be scored against this test set if `oob_score=True`. "
   ]
  },
  {
   "cell_type": "code",
   "execution_count": 13,
   "id": "012cd22e",
   "metadata": {},
   "outputs": [
    {
     "data": {
      "text/plain": [
       "0.8343109855348423"
      ]
     },
     "execution_count": 13,
     "metadata": {},
     "output_type": "execute_result"
    }
   ],
   "source": [
    "# No need to split train - test set since we are using oob_score\n",
    "rf_cls_oob = RandomForestClassifier(oob_score=True, n_estimators=10, random_state=2, n_jobs=-1)\n",
    "rf_cls_oob.fit(X_census, y_census)\n",
    "\n",
    "rf_cls_oob.oob_score_"
   ]
  },
  {
   "cell_type": "markdown",
   "id": "29f2e19b",
   "metadata": {},
   "source": [
    "As described previously, `oob_score` is created by scoring samples on individual trees excluded during the training phase. When the number of trees in the forest is small, as is the case with 10 estimators, there may not be enough test samples to maximize accuracy. \n",
    "- More trees mean more samples, and often greater accuracy."
   ]
  },
  {
   "cell_type": "markdown",
   "id": "2b84a52b",
   "metadata": {},
   "source": [
    "#### `n_estimators`\n",
    "\n",
    "Random Forests are powerful when there are many trees in the forest. Then the question is, *how many is enough?*\n",
    "- While 100 trees may be enough to cut down on variance and obtain good scores, for larger datasets, 500 or more trees may be required."
   ]
  },
  {
   "cell_type": "markdown",
   "id": "fe77d514",
   "metadata": {},
   "source": [
    "#### `warm_start`\n",
    "\n",
    "This hyperparameter is great for determining the number of trees in the forest (*n_estimators*). When `warm_start=True`, adding more trees does not require starting over from scratch, but rather starts where the preivous model stopped. "
   ]
  },
  {
   "cell_type": "code",
   "execution_count": 15,
   "id": "859497a2",
   "metadata": {},
   "outputs": [
    {
     "data": {
      "image/png": "[encoded data removed]",
      "text/plain": [
       "<Figure size 1080x504 with 1 Axes>"
      ]
     },
     "metadata": {},
     "output_type": "display_data"
    }
   ],
   "source": [
    "import matplotlib.pyplot as plt\n",
    "import seaborn as sns\n",
    "\n",
    "# Set seaborn to dark grid\n",
    "sns.set()\n",
    "\n",
    "# Initialize empty list of oob_scores\n",
    "oob_scores = []\n",
    "\n",
    "# Initialize Random Forest classifier as rf_cls with 50 estimators\n",
    "rf_cls = RandomForestClassifier(n_estimators=50, warm_start=True, oob_score=True,\n",
    "            random_state=2 ,n_jobs=-1)\n",
    "\n",
    "# Fit classifier to census income dataset\n",
    "rf_cls.fit(X_census, y_census)\n",
    "\n",
    "# Append oob_score to the list\n",
    "oob_scores.append(rf_cls.oob_score_)\n",
    "\n",
    "est = 50\n",
    "estimators = [est]\n",
    "\n",
    "for i in range(12):\n",
    "\n",
    "    # Add 50 to estimators, and append to estimators list\n",
    "    est += 50\n",
    "    estimators.append(est)\n",
    "\n",
    "    # Set the new estimator count on the classifier\n",
    "    rf_cls.set_params(n_estimators=est)\n",
    "\n",
    "    # Fit classifier on dataset\n",
    "    rf_cls.fit(X_census, y_census)\n",
    "\n",
    "    # Append oob scores to the oob_scores list\n",
    "    oob_scores.append(rf_cls.oob_score_)\n",
    "\n",
    "# Plot number of estimators vs oob_scores\n",
    "plt.figure(figsize=(15, 7))\n",
    "plt.plot(estimators, oob_scores)\n",
    "plt.xlabel(\"Number of Trees\")\n",
    "plt.ylabel(\"oob_score_\")\n",
    "plt.title(\"Random Forest Warm Start\", fontsize=15)\n",
    "plt.savefig(\"random_forest_warm_start\", dpi=325)\n",
    "plt.show()"
   ]
  },
  {
   "cell_type": "markdown",
   "id": "ff422f6c",
   "metadata": {},
   "source": [
    "As you can see, the number of trees tend to peak at around 300, and then it is more costly and time-consuming to use more than 300 trees, and the gains are minimal at best."
   ]
  },
  {
   "cell_type": "markdown",
   "id": "23aeb6e1",
   "metadata": {},
   "source": [
    "## Random Forest - A Case Study\n",
    "\n",
    "Goal is to predict the number of bike rentals per day depending upon the several features, using bike rentals dataset. Earlier in the chapter we manage to obtain an RMSE of 945 bikes with a random forest regressor with cross-validation."
   ]
  },
  {
   "cell_type": "code",
   "execution_count": 16,
   "id": "d2b14dda",
   "metadata": {},
   "outputs": [
    {
     "data": {
      "text/html": [
       "<div>\n",
       "<style scoped>\n",
       "    .dataframe tbody tr th:only-of-type {\n",
       "        vertical-align: middle;\n",
       "    }\n",
       "\n",
       "    .dataframe tbody tr th {\n",
       "        vertical-align: top;\n",
       "    }\n",
       "\n",
       "    .dataframe thead th {\n",
       "        text-align: right;\n",
       "    }\n",
       "</style>\n",
       "<table border=\"1\" class=\"dataframe\">\n",
       "  <thead>\n",
       "    <tr style=\"text-align: right;\">\n",
       "      <th></th>\n",
       "      <th>instant</th>\n",
       "      <th>season</th>\n",
       "      <th>yr</th>\n",
       "      <th>mnth</th>\n",
       "      <th>holiday</th>\n",
       "      <th>weekday</th>\n",
       "      <th>workingday</th>\n",
       "      <th>weathersit</th>\n",
       "      <th>temp</th>\n",
       "      <th>atemp</th>\n",
       "      <th>hum</th>\n",
       "      <th>windspeed</th>\n",
       "      <th>cnt</th>\n",
       "    </tr>\n",
       "  </thead>\n",
       "  <tbody>\n",
       "    <tr>\n",
       "      <th>0</th>\n",
       "      <td>1</td>\n",
       "      <td>1.0</td>\n",
       "      <td>0.0</td>\n",
       "      <td>1.0</td>\n",
       "      <td>0.0</td>\n",
       "      <td>6.0</td>\n",
       "      <td>0.0</td>\n",
       "      <td>2</td>\n",
       "      <td>0.344167</td>\n",
       "      <td>0.363625</td>\n",
       "      <td>0.805833</td>\n",
       "      <td>0.160446</td>\n",
       "      <td>985</td>\n",
       "    </tr>\n",
       "    <tr>\n",
       "      <th>1</th>\n",
       "      <td>2</td>\n",
       "      <td>1.0</td>\n",
       "      <td>0.0</td>\n",
       "      <td>1.0</td>\n",
       "      <td>0.0</td>\n",
       "      <td>0.0</td>\n",
       "      <td>0.0</td>\n",
       "      <td>2</td>\n",
       "      <td>0.363478</td>\n",
       "      <td>0.353739</td>\n",
       "      <td>0.696087</td>\n",
       "      <td>0.248539</td>\n",
       "      <td>801</td>\n",
       "    </tr>\n",
       "    <tr>\n",
       "      <th>2</th>\n",
       "      <td>3</td>\n",
       "      <td>1.0</td>\n",
       "      <td>0.0</td>\n",
       "      <td>1.0</td>\n",
       "      <td>0.0</td>\n",
       "      <td>1.0</td>\n",
       "      <td>1.0</td>\n",
       "      <td>1</td>\n",
       "      <td>0.196364</td>\n",
       "      <td>0.189405</td>\n",
       "      <td>0.437273</td>\n",
       "      <td>0.248309</td>\n",
       "      <td>1349</td>\n",
       "    </tr>\n",
       "    <tr>\n",
       "      <th>3</th>\n",
       "      <td>4</td>\n",
       "      <td>1.0</td>\n",
       "      <td>0.0</td>\n",
       "      <td>1.0</td>\n",
       "      <td>0.0</td>\n",
       "      <td>2.0</td>\n",
       "      <td>1.0</td>\n",
       "      <td>1</td>\n",
       "      <td>0.200000</td>\n",
       "      <td>0.212122</td>\n",
       "      <td>0.590435</td>\n",
       "      <td>0.160296</td>\n",
       "      <td>1562</td>\n",
       "    </tr>\n",
       "    <tr>\n",
       "      <th>4</th>\n",
       "      <td>5</td>\n",
       "      <td>1.0</td>\n",
       "      <td>0.0</td>\n",
       "      <td>1.0</td>\n",
       "      <td>0.0</td>\n",
       "      <td>3.0</td>\n",
       "      <td>1.0</td>\n",
       "      <td>1</td>\n",
       "      <td>0.226957</td>\n",
       "      <td>0.229270</td>\n",
       "      <td>0.436957</td>\n",
       "      <td>0.186900</td>\n",
       "      <td>1600</td>\n",
       "    </tr>\n",
       "  </tbody>\n",
       "</table>\n",
       "</div>"
      ],
      "text/plain": [
       "   instant  season   yr  mnth  holiday  weekday  workingday  weathersit  \\\n",
       "0        1     1.0  0.0   1.0      0.0      6.0         0.0           2   \n",
       "1        2     1.0  0.0   1.0      0.0      0.0         0.0           2   \n",
       "2        3     1.0  0.0   1.0      0.0      1.0         1.0           1   \n",
       "3        4     1.0  0.0   1.0      0.0      2.0         1.0           1   \n",
       "4        5     1.0  0.0   1.0      0.0      3.0         1.0           1   \n",
       "\n",
       "       temp     atemp       hum  windspeed   cnt  \n",
       "0  0.344167  0.363625  0.805833   0.160446   985  \n",
       "1  0.363478  0.353739  0.696087   0.248539   801  \n",
       "2  0.196364  0.189405  0.437273   0.248309  1349  \n",
       "3  0.200000  0.212122  0.590435   0.160296  1562  \n",
       "4  0.226957  0.229270  0.436957   0.186900  1600  "
      ]
     },
     "execution_count": 16,
     "metadata": {},
     "output_type": "execute_result"
    }
   ],
   "source": [
    "df_bikes = pd.read_csv(\"data/bike_rentals_cleaned.csv\")\n",
    "df_bikes.head()"
   ]
  },
  {
   "cell_type": "code",
   "execution_count": 37,
   "id": "b85db292",
   "metadata": {},
   "outputs": [
    {
     "name": "stdout",
     "output_type": "stream",
     "text": [
      "Best Params: {'min_weight_fraction_leaf': 0.0, 'min_samples_split': 0.03, 'min_samples_leaf': 6, 'min_impurity_decrease': 0.05, 'max_leaf_nodes': 25, 'max_features': 0.7, 'max_depth': None}\n",
      "Training score: 759.076\n",
      "Test set score: 701.802126075713\n"
     ]
    }
   ],
   "source": [
    "from utility import rand_search_reg\n",
    "from sklearn.model_selection import train_test_split\n",
    "\n",
    "X_bikes = df_bikes.iloc[:, :-1]\n",
    "y_bikes = df_bikes.iloc[:, -1]\n",
    "\n",
    "X_train, X_test, y_train, y_test = train_test_split(X_bikes, y_bikes, random_state=2)\n",
    "\n",
    "rand_search_reg(X_train, y_train, X_test, y_test,\n",
    "    params={'min_weight_fraction_leaf':[0.0, 0.0025, 0.005, 0.0075, 0.01, 0.05],\n",
    "            'min_samples_split':[2, 0.01, 0.02, 0.03, 0.04, 0.06, 0.08, 0.1],\n",
    "            'min_samples_leaf':[1,2,4,6,8,10,20,30],\n",
    "            'min_impurity_decrease':[0.0, 0.01, 0.05, 0.10, 0.15, 0.2],\n",
    "            'max_leaf_nodes':[10, 15, 20, 25, 30, 35, 40, 45, 50, None],\n",
    "            'max_features':['auto', 0.8, 0.7, 0.6, 0.5, 0.4],\n",
    "            'max_depth':[None,2,4,6,8,10,20]\n",
    "            })"
   ]
  },
  {
   "cell_type": "markdown",
   "id": "99407eca",
   "metadata": {},
   "source": [
    "This is a major improvement. Let's see if we can do better by narrowing the range."
   ]
  },
  {
   "cell_type": "code",
   "execution_count": 38,
   "id": "2d074752",
   "metadata": {},
   "outputs": [
    {
     "name": "stdout",
     "output_type": "stream",
     "text": [
      "Best Params: {'min_samples_leaf': 1, 'min_impurity_decrease': 0.1, 'max_features': 0.6, 'max_depth': 10}\n",
      "Training score: 679.052\n",
      "Test set score: 626.5408983236347\n"
     ]
    }
   ],
   "source": [
    "rand_search_reg(X_train, y_train, X_test, y_test,\n",
    "    params={'min_samples_leaf':[1,2,4,6,8,10,20,30],\n",
    "            'min_impurity_decrease':[0.0, 0.01, 0.05, 0.10, 0.15, 0.2],\n",
    "            'max_features':['auto', 0.8, 0.7, 0.6, 0.5, 0.4],\n",
    "            'max_depth':[None,2,4,6,8,10,20]\n",
    "            })"
   ]
  },
  {
   "cell_type": "markdown",
   "id": "ecc8047c",
   "metadata": {},
   "source": [
    "The score has improved yet again. Now let's increase the number of runs, and give more options for max_depth."
   ]
  },
  {
   "cell_type": "code",
   "execution_count": 40,
   "id": "e70589ec",
   "metadata": {},
   "outputs": [
    {
     "name": "stdout",
     "output_type": "stream",
     "text": [
      "Best Params: {'min_samples_leaf': 1, 'min_impurity_decrease': 0.1, 'max_features': 0.6, 'max_depth': 12}\n",
      "Training score: 675.128\n",
      "Test set score: 619.0138286133003\n"
     ]
    }
   ],
   "source": [
    "rand_search_reg(X_train, y_train, X_test, y_test,\n",
    "    params={'min_samples_leaf':[1,2,4,6,8,10,20,30],\n",
    "            'min_impurity_decrease':[0.0, 0.01, 0.05, 0.10, 0.15, 0.2],\n",
    "            'max_features':['auto', 0.8, 0.7, 0.6, 0.5, 0.4],\n",
    "            'max_depth':[None,4,6,8,10,12, 15, 20]\n",
    "            }, runs = 20)"
   ]
  },
  {
   "cell_type": "markdown",
   "id": "efefbc2a",
   "metadata": {},
   "source": [
    "The score keeps getting better. At this point, it may be worth narrowing the ranges further, based upon the previous results"
   ]
  },
  {
   "cell_type": "code",
   "execution_count": 41,
   "id": "14f1abe5",
   "metadata": {},
   "outputs": [
    {
     "name": "stdout",
     "output_type": "stream",
     "text": [
      "Best Params: {'min_samples_leaf': 1, 'min_impurity_decrease': 0.08, 'max_features': 0.5, 'max_depth': 12}\n",
      "Training score: 673.657\n",
      "Test set score: 616.1890813502575\n"
     ]
    }
   ],
   "source": [
    "rand_search_reg(X_train, y_train, X_test, y_test,\n",
    "    params={'min_samples_leaf':[1,2,3,4,5,6],\n",
    "            'min_impurity_decrease':[0.0, 0.01, 0.05, 0.08, 0.10, 0.12],\n",
    "            'max_features':['auto', 0.8, 0.7, 0.6, 0.5, 0.4],\n",
    "            'max_depth':[None,8,10,12,14,16,18,20]\n",
    "            }, runs = 20)"
   ]
  },
  {
   "cell_type": "markdown",
   "id": "2af9a730",
   "metadata": {},
   "source": [
    "Lets try with increasing the number of estimators."
   ]
  },
  {
   "cell_type": "code",
   "execution_count": 43,
   "id": "d75bab0e",
   "metadata": {},
   "outputs": [
    {
     "name": "stdout",
     "output_type": "stream",
     "text": [
      "Best Params: {'n_estimators': 150, 'min_samples_leaf': 1, 'min_impurity_decrease': 0.08, 'max_features': 0.5, 'max_depth': 12}\n",
      "Training score: 673.903\n",
      "Test set score: 611.4875605212735\n"
     ]
    }
   ],
   "source": [
    "rand_search_reg(X_train, y_train, X_test, y_test,\n",
    "    params={'min_samples_leaf':[1,2,3,4,5,6],\n",
    "            'min_impurity_decrease':[0.0, 0.01, 0.05, 0.08, 0.10, 0.12],\n",
    "            'max_features':['auto', 0.8, 0.7, 0.6, 0.5, 0.4],\n",
    "            'max_depth':[None,8,10,12,14,16,18,20],\n",
    "            'n_estimators': [150]\n",
    "            }, runs = 20)"
   ]
  },
  {
   "cell_type": "markdown",
   "id": "9d6f0b01",
   "metadata": {},
   "source": [
    "Finallyi let's place our best model in **cross_val_score** to see how the result compares with the original."
   ]
  },
  {
   "cell_type": "code",
   "execution_count": 44,
   "id": "0648315f",
   "metadata": {},
   "outputs": [
    {
     "name": "stdout",
     "output_type": "stream",
     "text": [
      "RMSE: [ 857.22   502.685  542.613  813.863  772.447  733.553  870.296  802.451\n",
      "  739.206 1545.175]\n",
      "RMSE Mean: 817.951\n"
     ]
    }
   ],
   "source": [
    "rf = RandomForestRegressor(n_estimators=150,\n",
    "    min_impurity_decrease=0.08, max_features=0.5, max_depth=12,\n",
    "    warm_start=True, n_jobs=-1, random_state=2)\n",
    "\n",
    "scores = cross_val_score(rf, X_bikes, y_bikes, \n",
    "    scoring=\"neg_mean_squared_error\", cv=10)\n",
    "\n",
    "rmse = np.sqrt(-scores)\n",
    "print(f\"RMSE: {np.round(rmse, 3)}\")\n",
    "print(f\"RMSE Mean: {np.round(rmse.mean(), 3)}\")"
   ]
  },
  {
   "cell_type": "markdown",
   "id": "d2b3687f",
   "metadata": {},
   "source": [
    "The RMSE goes back up to **817**. The score is much better than **945**, but its considerably worse than **611**. What's going on here?\n",
    "\n",
    "- There may be an issue with the last split in `cross_val_score` since its score is twice as bad as the others. Lets see if shuffling the data does the trick?"
   ]
  },
  {
   "cell_type": "code",
   "execution_count": 45,
   "id": "041953c9",
   "metadata": {},
   "outputs": [
    {
     "name": "stdout",
     "output_type": "stream",
     "text": [
      "RMSE: [613.972 685.997 460.284 549.958 611.606 709.871 769.693 662.781 743.442\n",
      " 613.821]\n",
      "RMSE Mean: 642.142\n"
     ]
    }
   ],
   "source": [
    "from sklearn.utils import shuffle\n",
    "\n",
    "df_shuffle_bikes = shuffle(df_bikes, random_state=2)\n",
    "X_shuffle_bikes = df_shuffle_bikes.iloc[:,:-1]\n",
    "y_shuffle_bikes = df_shuffle_bikes.iloc[:,-1]\n",
    "\n",
    "rf = RandomForestRegressor(n_estimators=150,\n",
    "    min_impurity_decrease=0.08, max_features=0.5, max_depth=12,\n",
    "    warm_start=True, n_jobs=-1, random_state=2)\n",
    "\n",
    "scores = cross_val_score(rf, X_shuffle_bikes, y_shuffle_bikes, \n",
    "    scoring=\"neg_mean_squared_error\", cv=10)\n",
    "\n",
    "rmse = np.sqrt(-scores)\n",
    "print(f\"RMSE: {np.round(rmse, 3)}\")\n",
    "print(f\"RMSE Mean: {np.round(rmse.mean(), 3)}\")"
   ]
  },
  {
   "cell_type": "markdown",
   "id": "b479c478",
   "metadata": {},
   "source": [
    "In the shuffled data, there is no issue with the last split, and the score is much higher, as expected."
   ]
  }
 ],
 "metadata": {
  "interpreter": {
   "hash": "4cf54270e842edea860f0f7526b74aa872be5d86e238264e9ee746862474d0fa"
  },
  "kernelspec": {
   "display_name": "Python 3.8.0 ('msc')",
   "language": "python",
   "name": "python3"
  },
  "language_info": {
   "codemirror_mode": {
    "name": "ipython",
    "version": 3
   },
   "file_extension": ".py",
   "mimetype": "text/x-python",
   "name": "python",
   "nbconvert_exporter": "python",
   "pygments_lexer": "ipython3",
   "version": "3.8.0"
  }
 },
 "nbformat": 4,
 "nbformat_minor": 5
}
