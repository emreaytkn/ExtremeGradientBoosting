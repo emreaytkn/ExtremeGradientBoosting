{
 "cells": [
  {
   "cell_type": "code",
   "execution_count": 1,
   "id": "422e1faa",
   "metadata": {},
   "outputs": [],
   "source": [
    "import pandas as pd\n",
    "import numpy as np\n",
    "import warnings\n",
    "\n",
    "warnings.filterwarnings('ignore')"
   ]
  },
  {
   "cell_type": "code",
   "execution_count": 8,
   "id": "ded16633",
   "metadata": {},
   "outputs": [
    {
     "name": "stdout",
     "output_type": "stream",
     "text": [
      "df_bikes shape: (731, 13)\n"
     ]
    },
    {
     "data": {
      "text/html": [
       "<div>\n",
       "<style scoped>\n",
       "    .dataframe tbody tr th:only-of-type {\n",
       "        vertical-align: middle;\n",
       "    }\n",
       "\n",
       "    .dataframe tbody tr th {\n",
       "        vertical-align: top;\n",
       "    }\n",
       "\n",
       "    .dataframe thead th {\n",
       "        text-align: right;\n",
       "    }\n",
       "</style>\n",
       "<table border=\"1\" class=\"dataframe\">\n",
       "  <thead>\n",
       "    <tr style=\"text-align: right;\">\n",
       "      <th></th>\n",
       "      <th>instant</th>\n",
       "      <th>season</th>\n",
       "      <th>yr</th>\n",
       "      <th>mnth</th>\n",
       "      <th>holiday</th>\n",
       "      <th>weekday</th>\n",
       "      <th>workingday</th>\n",
       "      <th>weathersit</th>\n",
       "      <th>temp</th>\n",
       "      <th>atemp</th>\n",
       "      <th>hum</th>\n",
       "      <th>windspeed</th>\n",
       "      <th>cnt</th>\n",
       "    </tr>\n",
       "  </thead>\n",
       "  <tbody>\n",
       "    <tr>\n",
       "      <th>0</th>\n",
       "      <td>1</td>\n",
       "      <td>1.0</td>\n",
       "      <td>0.0</td>\n",
       "      <td>1.0</td>\n",
       "      <td>0.0</td>\n",
       "      <td>6.0</td>\n",
       "      <td>0.0</td>\n",
       "      <td>2</td>\n",
       "      <td>0.344167</td>\n",
       "      <td>0.363625</td>\n",
       "      <td>0.805833</td>\n",
       "      <td>0.160446</td>\n",
       "      <td>985</td>\n",
       "    </tr>\n",
       "    <tr>\n",
       "      <th>1</th>\n",
       "      <td>2</td>\n",
       "      <td>1.0</td>\n",
       "      <td>0.0</td>\n",
       "      <td>1.0</td>\n",
       "      <td>0.0</td>\n",
       "      <td>0.0</td>\n",
       "      <td>0.0</td>\n",
       "      <td>2</td>\n",
       "      <td>0.363478</td>\n",
       "      <td>0.353739</td>\n",
       "      <td>0.696087</td>\n",
       "      <td>0.248539</td>\n",
       "      <td>801</td>\n",
       "    </tr>\n",
       "    <tr>\n",
       "      <th>2</th>\n",
       "      <td>3</td>\n",
       "      <td>1.0</td>\n",
       "      <td>0.0</td>\n",
       "      <td>1.0</td>\n",
       "      <td>0.0</td>\n",
       "      <td>1.0</td>\n",
       "      <td>1.0</td>\n",
       "      <td>1</td>\n",
       "      <td>0.196364</td>\n",
       "      <td>0.189405</td>\n",
       "      <td>0.437273</td>\n",
       "      <td>0.248309</td>\n",
       "      <td>1349</td>\n",
       "    </tr>\n",
       "    <tr>\n",
       "      <th>3</th>\n",
       "      <td>4</td>\n",
       "      <td>1.0</td>\n",
       "      <td>0.0</td>\n",
       "      <td>1.0</td>\n",
       "      <td>0.0</td>\n",
       "      <td>2.0</td>\n",
       "      <td>1.0</td>\n",
       "      <td>1</td>\n",
       "      <td>0.200000</td>\n",
       "      <td>0.212122</td>\n",
       "      <td>0.590435</td>\n",
       "      <td>0.160296</td>\n",
       "      <td>1562</td>\n",
       "    </tr>\n",
       "    <tr>\n",
       "      <th>4</th>\n",
       "      <td>5</td>\n",
       "      <td>1.0</td>\n",
       "      <td>0.0</td>\n",
       "      <td>1.0</td>\n",
       "      <td>0.0</td>\n",
       "      <td>3.0</td>\n",
       "      <td>1.0</td>\n",
       "      <td>1</td>\n",
       "      <td>0.226957</td>\n",
       "      <td>0.229270</td>\n",
       "      <td>0.436957</td>\n",
       "      <td>0.186900</td>\n",
       "      <td>1600</td>\n",
       "    </tr>\n",
       "  </tbody>\n",
       "</table>\n",
       "</div>"
      ],
      "text/plain": [
       "   instant  season   yr  mnth  holiday  weekday  workingday  weathersit  \\\n",
       "0        1     1.0  0.0   1.0      0.0      6.0         0.0           2   \n",
       "1        2     1.0  0.0   1.0      0.0      0.0         0.0           2   \n",
       "2        3     1.0  0.0   1.0      0.0      1.0         1.0           1   \n",
       "3        4     1.0  0.0   1.0      0.0      2.0         1.0           1   \n",
       "4        5     1.0  0.0   1.0      0.0      3.0         1.0           1   \n",
       "\n",
       "       temp     atemp       hum  windspeed   cnt  \n",
       "0  0.344167  0.363625  0.805833   0.160446   985  \n",
       "1  0.363478  0.353739  0.696087   0.248539   801  \n",
       "2  0.196364  0.189405  0.437273   0.248309  1349  \n",
       "3  0.200000  0.212122  0.590435   0.160296  1562  \n",
       "4  0.226957  0.229270  0.436957   0.186900  1600  "
      ]
     },
     "execution_count": 8,
     "metadata": {},
     "output_type": "execute_result"
    }
   ],
   "source": [
    "# Load the bike rentals dataset - cleaned version to pandas data frame\n",
    "df_bikes = pd.read_csv(\"data/bike_rentals_cleaned.csv\")\n",
    "print(f\"df_bikes shape: {df_bikes.shape}\")\n",
    "\n",
    "# Display the first five rows\n",
    "df_bikes.head()"
   ]
  },
  {
   "cell_type": "code",
   "execution_count": 9,
   "id": "6163a72a",
   "metadata": {},
   "outputs": [
    {
     "name": "stdout",
     "output_type": "stream",
     "text": [
      "X train shape: (548, 12), X test shape: (183, 12)\n"
     ]
    }
   ],
   "source": [
    "from sklearn.model_selection import train_test_split\n",
    "\n",
    "# Split the data into X and y, target columns is 'cnt': Number of bikes rented for a given day\n",
    "X = df_bikes.iloc[:, :-1]\n",
    "y = df_bikes.iloc[:, -1]\n",
    "\n",
    "# Split into training and test sets\n",
    "X_train, X_test, y_train, y_test = train_test_split(X, y, random_state=2)\n",
    "\n",
    "print(f\"X train shape: {X_train.shape}, X test shape: {X_test.shape}\")"
   ]
  },
  {
   "cell_type": "markdown",
   "id": "47215eaf",
   "metadata": {},
   "source": [
    "## Building Gradient Boosting Model From Scratch\n",
    "\n",
    "Here are the steps for building a gradient boosting machine learning model from scratch."
   ]
  },
  {
   "cell_type": "markdown",
   "id": "f4c11140",
   "metadata": {},
   "source": [
    "#### Step 1: Fit the data into the decision tree \n",
    "You may use a decision tree stump, which has a **max_depth** value of 1, or a decision tree with a **max_depth** value of 2 or 3. The initial decision tree, called a **base learner** should not be fine tuned for accuracy."
   ]
  },
  {
   "cell_type": "code",
   "execution_count": 10,
   "id": "7f91048d",
   "metadata": {},
   "outputs": [
    {
     "data": {
      "text/plain": [
       "DecisionTreeRegressor(max_depth=2, random_state=2)"
      ]
     },
     "execution_count": 10,
     "metadata": {},
     "output_type": "execute_result"
    }
   ],
   "source": [
    "from sklearn.tree import DecisionTreeRegressor\n",
    "\n",
    "tree_1 = DecisionTreeRegressor(max_depth=2, random_state=2)\n",
    "\n",
    "# Fit the model on to X train and y train\n",
    "tree_1.fit(X_train, y_train)"
   ]
  },
  {
   "cell_type": "markdown",
   "id": "b6ebada7",
   "metadata": {},
   "source": [
    "#### Step 2: Make predictions with the **training set**\n",
    "Instead of making predictions with the test set, predictions in gradient boosting are initially made with the training set. \n",
    "\n",
    "- Aim is to compute residuals while still in the training phase. "
   ]
  },
  {
   "cell_type": "code",
   "execution_count": 11,
   "id": "f749fd62",
   "metadata": {},
   "outputs": [],
   "source": [
    "y_train_pred = tree_1.predict(X_train)"
   ]
  },
  {
   "cell_type": "markdown",
   "id": "98159a77",
   "metadata": {},
   "source": [
    "#### Step 3: Compute the residuals\n",
    "The residuals are the differences between the predictions and the target column."
   ]
  },
  {
   "cell_type": "code",
   "execution_count": 12,
   "id": "3bfc1fbd",
   "metadata": {},
   "outputs": [
    {
     "data": {
      "text/plain": [
       "203   -1183.145833\n",
       "634    1132.343558\n",
       "544     278.343558\n",
       "12    -1207.743169\n",
       "171     366.854167\n",
       "Name: cnt, dtype: float64"
      ]
     },
     "execution_count": 12,
     "metadata": {},
     "output_type": "execute_result"
    }
   ],
   "source": [
    "# The residuals are defined as y2_train, because they are the new target column for the next tree\n",
    "y2_train = y_train - y_train_pred\n",
    "y2_train[:5]"
   ]
  },
  {
   "cell_type": "markdown",
   "id": "518e4bd5",
   "metadata": {},
   "source": [
    "#### Step 4: Fit the new tree on the residuals\n",
    "Fitting a new tree on the residuals is different than fitting a model on the training set. The primary difference is in the predictions. In the bike rentals dataset, when fitting a new tree on the residuals, we should progressively get smaller numbers.\n",
    "\n",
    "- Initialize a new tree and fit on **X_train** and the residuals, **y2_train**"
   ]
  },
  {
   "cell_type": "code",
   "execution_count": 13,
   "id": "3ecadd3a",
   "metadata": {},
   "outputs": [
    {
     "data": {
      "text/plain": [
       "DecisionTreeRegressor(max_depth=2, random_state=2)"
      ]
     },
     "execution_count": 13,
     "metadata": {},
     "output_type": "execute_result"
    }
   ],
   "source": [
    "tree_2 = DecisionTreeRegressor(max_depth=2, random_state=2)\n",
    "\n",
    "tree_2.fit(X_train, y2_train)"
   ]
  },
  {
   "cell_type": "markdown",
   "id": "613f6fa2",
   "metadata": {},
   "source": [
    "#### Step 5: Repeat Steps 2-4\n",
    "As the process continues, the residuals should gradually approach 0 from the positive and negative direction. The iterations continue for the number of estimators, **n_estimators**."
   ]
  },
  {
   "cell_type": "code",
   "execution_count": 15,
   "id": "0bbd9f61",
   "metadata": {},
   "outputs": [
    {
     "data": {
      "text/plain": [
       "DecisionTreeRegressor(max_depth=2, random_state=2)"
      ]
     },
     "execution_count": 15,
     "metadata": {},
     "output_type": "execute_result"
    }
   ],
   "source": [
    "y2_train_pred = tree_2.predict(X_train)\n",
    "\n",
    "y3_train = y2_train - y2_train_pred\n",
    "\n",
    "tree_3 = DecisionTreeRegressor(max_depth=2, random_state=2)\n",
    "tree_3.fit(X_train, y3_train)"
   ]
  },
  {
   "cell_type": "markdown",
   "id": "634ae644",
   "metadata": {},
   "source": [
    "This process may continue for dozens, hundreds or thousands of trees. It will take more than a few trees to transform a weak learner into a strong learner. Since our goal is to understand how gradient boosting works behind the scenes, we will move on to next step."
   ]
  },
  {
   "cell_type": "markdown",
   "id": "79260787",
   "metadata": {},
   "source": [
    "#### Step 6: Sum the results\n",
    "Summing the results requires making predictions for each tree with the test set as follows:"
   ]
  },
  {
   "cell_type": "code",
   "execution_count": 16,
   "id": "e84f3cb0",
   "metadata": {},
   "outputs": [
    {
     "data": {
      "text/plain": [
       "array([4710.19173509, 4307.72376923, 3719.78786666, 3888.39768662,\n",
       "       1865.38520272])"
      ]
     },
     "execution_count": 16,
     "metadata": {},
     "output_type": "execute_result"
    }
   ],
   "source": [
    "y1_pred = tree_1.predict(X_test)\n",
    "y2_pred = tree_2.predict(X_test)\n",
    "y3_pred = tree_3.predict(X_test)\n",
    "\n",
    "y_pred = y1_pred + y2_pred + y3_pred\n",
    "y_pred[:5]"
   ]
  },
  {
   "cell_type": "markdown",
   "id": "d6416fb8",
   "metadata": {},
   "source": [
    "#### Step 7: Compute MSE "
   ]
  },
  {
   "cell_type": "code",
   "execution_count": 17,
   "id": "673ed566",
   "metadata": {},
   "outputs": [
    {
     "data": {
      "text/plain": [
       "911.0479538776444"
      ]
     },
     "execution_count": 17,
     "metadata": {},
     "output_type": "execute_result"
    }
   ],
   "source": [
    "from sklearn.metrics import mean_squared_error as MSE \n",
    "\n",
    "np.sqrt(MSE(y_test, y_pred))"
   ]
  },
  {
   "cell_type": "markdown",
   "id": "f7edf931",
   "metadata": {},
   "source": [
    "Not bad for a weak learner that isn't yet strong. Now let's try to obtain the same result using scikit-learn."
   ]
  },
  {
   "cell_type": "markdown",
   "id": "a74ecc27",
   "metadata": {},
   "source": [
    "## Building Gradient Boosting Model in Scikit-Learn\n",
    "\n",
    "The advantage of using **GradientBoostingRegressor** is that it is much faster to build and easier to implement."
   ]
  },
  {
   "cell_type": "code",
   "execution_count": 18,
   "id": "a144f988",
   "metadata": {},
   "outputs": [
    {
     "data": {
      "text/plain": [
       "911.0479538776439"
      ]
     },
     "execution_count": 18,
     "metadata": {},
     "output_type": "execute_result"
    }
   ],
   "source": [
    "from sklearn.ensemble import GradientBoostingRegressor\n",
    "\n",
    "gb_reg = GradientBoostingRegressor(max_depth=2, n_estimators=3, learning_rate=1.0, random_state=2)\n",
    "\n",
    "gb_reg.fit(X_train, y_train)\n",
    "\n",
    "y_pred = gb_reg.predict(X_test)\n",
    "\n",
    "np.sqrt(MSE(y_test, y_pred))"
   ]
  },
  {
   "cell_type": "markdown",
   "id": "513695d8",
   "metadata": {},
   "source": [
    "The result is the same to **11 decimal places!**. \n",
    "- The point of gradient boosting is to build a model with enough trees to transform a weak learner into a strong learner. This is easily done by changing **n_estimators**, the number of iterations, to a much larger number."
   ]
  },
  {
   "cell_type": "code",
   "execution_count": 19,
   "id": "6fd430a2",
   "metadata": {},
   "outputs": [
    {
     "data": {
      "text/plain": [
       "857.1072323426944"
      ]
     },
     "execution_count": 19,
     "metadata": {},
     "output_type": "execute_result"
    }
   ],
   "source": [
    "# Lets try to score a GradientBoostingRegressor with 30 estimators\n",
    "\n",
    "gb_reg = GradientBoostingRegressor(max_depth=2, n_estimators=30, learning_rate=1.0, random_state=2)\n",
    "\n",
    "gb_reg.fit(X_train, y_train)\n",
    "\n",
    "y_pred = gb_reg.predict(X_test)\n",
    "\n",
    "np.sqrt(MSE(y_test, y_pred))"
   ]
  },
  {
   "cell_type": "markdown",
   "id": "a576720a",
   "metadata": {},
   "source": [
    "The score is an improvement. Now let's look at 300 estimators."
   ]
  },
  {
   "cell_type": "code",
   "execution_count": 20,
   "id": "23b6b748",
   "metadata": {},
   "outputs": [
    {
     "data": {
      "text/plain": [
       "936.3617413678853"
      ]
     },
     "execution_count": 20,
     "metadata": {},
     "output_type": "execute_result"
    }
   ],
   "source": [
    "gb_reg = GradientBoostingRegressor(max_depth=2, n_estimators=300, learning_rate=1.0, random_state=2)\n",
    "\n",
    "gb_reg.fit(X_train, y_train)\n",
    "\n",
    "y_pred = gb_reg.predict(X_test)\n",
    "\n",
    "np.sqrt(MSE(y_test, y_pred))"
   ]
  },
  {
   "cell_type": "markdown",
   "id": "87e36166",
   "metadata": {},
   "source": [
    "The score has gotten worse. Whenever you get a surprise result, it's worth double-checking the code. We changed **learning_rate** without saying much about it. So let's find out what happens if we use the scikit-learn default value for the learning rate."
   ]
  },
  {
   "cell_type": "code",
   "execution_count": 21,
   "id": "33a13350",
   "metadata": {},
   "outputs": [
    {
     "data": {
      "text/plain": [
       "653.7456840231495"
      ]
     },
     "execution_count": 21,
     "metadata": {},
     "output_type": "execute_result"
    }
   ],
   "source": [
    "gb_reg = GradientBoostingRegressor(max_depth=2, n_estimators=300, random_state=2)\n",
    "\n",
    "gb_reg.fit(X_train, y_train)\n",
    "\n",
    "y_pred = gb_reg.predict(X_test)\n",
    "\n",
    "np.sqrt(MSE(y_test, y_pred))"
   ]
  },
  {
   "cell_type": "markdown",
   "id": "a8cb69d7",
   "metadata": {},
   "source": [
    "By using the Scikit-Learn default for the **learning_rate** hyperparameter, the score is improved from 936 to 654. In the next section, let's deep dive into gradient boosting hyperparameters with a focus on the learning_rate hyperparameter."
   ]
  },
  {
   "cell_type": "markdown",
   "id": "2bfd4a78",
   "metadata": {},
   "source": [
    "## Gradient Boosting Hyperparameters"
   ]
  },
  {
   "cell_type": "markdown",
   "id": "c8e81475",
   "metadata": {},
   "source": [
    "`learning_rate`: Limits the influence of individual trees. Determining an optimal learning_rate value requires varying investigation of **n_estimators**."
   ]
  },
  {
   "cell_type": "code",
   "execution_count": 41,
   "id": "34e8be63",
   "metadata": {},
   "outputs": [],
   "source": [
    "def calc_score_for_varying_learningrates(learning_rates, est_count, mdepth=2):\n",
    "    rmse_values = []\n",
    "\n",
    "    for rate in learning_rates:\n",
    "        gb_reg = GradientBoostingRegressor(max_depth=mdepth, n_estimators=est_count, learning_rate=rate, random_state=2)\n",
    "        gb_reg.fit(X_train, y_train)\n",
    "        y_pred = gb_reg.predict(X_test)\n",
    "        rmse = np.sqrt(MSE(y_test, y_pred))\n",
    "        rmse_values.append(rmse)\n",
    "        #print(f\"Learning Rate: {rate} , Score: {rmse} \")\n",
    "    \n",
    "    return rmse_values\n"
   ]
  },
  {
   "cell_type": "code",
   "execution_count": 39,
   "id": "0cf4a071",
   "metadata": {},
   "outputs": [
    {
     "data": {
      "image/png": "[encoded data removed]",
      "text/plain": [
       "<Figure size 1080x504 with 1 Axes>"
      ]
     },
     "metadata": {},
     "output_type": "display_data"
    }
   ],
   "source": [
    "import matplotlib.pyplot as plt\n",
    "import seaborn as sns\n",
    "sns.set()\n",
    "\n",
    "learning_rates = [0.001, 0.01, 0.05, 0.1, 0.15, 0.2, 0.3, 0.5, 1.0]\n",
    "\n",
    "rmse_values_30 = calc_score_for_varying_learningrates(learning_rates, est_count=30)\n",
    "rmse_values_300 = calc_score_for_varying_learningrates(learning_rates, est_count=300)\n",
    "rmse_values_3000 = calc_score_for_varying_learningrates(learning_rates, est_count=3000)\n",
    "\n",
    "plt.figure(figsize=(15, 7))\n",
    "plt.title(\"Varying learning rates for estimators\", fontsize=15)\n",
    "\n",
    "plt.grid(\"on\")\n",
    "\n",
    "plt.plot(learning_rates, rmse_values_30, label=\"rmse_values_30\")\n",
    "plt.plot(learning_rates, rmse_values_300, label=\"rmse_values_300\")\n",
    "plt.plot(learning_rates, rmse_values_3000, label=\"rmse_values_3000\")\n",
    "\n",
    "plt.xlabel(\"Learning Rates\")\n",
    "plt.ylabel(\"RMSE\")\n",
    "\n",
    "plt.legend()\n",
    "plt.show()\n"
   ]
  },
  {
   "cell_type": "markdown",
   "id": "1c3b91d9",
   "metadata": {},
   "source": [
    "As you can see from the output, the default learning rate value of 0.1 gives the best score for 300 trees. With 30 trees, the **learning_rate** value peaks at around **0.3**, on the other hand, with 3000 trees, the **learning_rate** value peaks at the second value, which is given as **0.05**. These graphs highlight the importance of tuning *learning_rate* and *n_estimators* together. "
   ]
  },
  {
   "cell_type": "markdown",
   "id": "3fbeb72f",
   "metadata": {},
   "source": [
    "#### Base Learners\n",
    "\n",
    "The initial decision tree in the gradient boosting regressor is called the **base learner** because it's at the base of the ensemble. It is the first learner in the process.\n",
    "- The term *learner* here is indicative of a *weak learner* transforming into a *strong learner*.\n",
    "\n",
    "Although base learners need not be fine tuned for accuracy, it's certainly possible to tune base learners for gains in accuracy. For instance we can try different values of **max_depth** and compare the results."
   ]
  },
  {
   "cell_type": "code",
   "execution_count": 43,
   "id": "a3ca58e3",
   "metadata": {},
   "outputs": [
    {
     "data": {
      "image/png": "[encoded data removed]",
      "text/plain": [
       "<Figure size 1080x504 with 1 Axes>"
      ]
     },
     "metadata": {},
     "output_type": "display_data"
    }
   ],
   "source": [
    "max_depths = [None, 1, 2, 3, 4]\n",
    "\n",
    "plt.figure(figsize=(15, 7))\n",
    "plt.title(\"Varying max depths for estimators\", fontsize=15)\n",
    "\n",
    "plt.grid(\"on\")\n",
    "\n",
    "def calc_score_for_varying_maxdepths(max_depths, n_est=300, learningr=0.1):\n",
    "    rmse_values = []\n",
    "\n",
    "    for depth in max_depths:\n",
    "        gb_reg = GradientBoostingRegressor(max_depth=depth, n_estimators=n_est, learning_rate=learningr, random_state=2)\n",
    "        gb_reg.fit(X_train, y_train)\n",
    "        y_pred = gb_reg.predict(X_test)\n",
    "        rmse_values.append(np.sqrt(MSE(y_test, y_pred)))\n",
    "    \n",
    "    return rmse_values\n",
    "\n",
    "rmse_values_300 = calc_score_for_varying_maxdepths(max_depths)\n",
    "\n",
    "plt.plot(max_depths, rmse_values_300, label=\"rmse_values_300\")\n",
    "\n",
    "plt.xlabel(\"Maximum Tree Depth (max_depth)\")\n",
    "plt.ylabel(\"RMSE\")\n",
    "\n",
    "plt.legend()\n",
    "plt.show()\n"
   ]
  },
  {
   "cell_type": "markdown",
   "id": "cfdfbda3",
   "metadata": {},
   "source": [
    "A **max_depth** value of 3 gives the best results."
   ]
  },
  {
   "cell_type": "markdown",
   "id": "530abbbf",
   "metadata": {},
   "source": [
    "#### Subsample\n",
    "\n",
    "`subsample` is a subset of samples. Since samples are the rows, a subset of rows means that all rows may not be included when building each tree. By changing `subsample` from **1.0** to a smaller decimal, tree only select that percentage of samples during the build phase. For example `subsample=0.8` would select 80% of samples for each tree."
   ]
  },
  {
   "cell_type": "code",
   "execution_count": 44,
   "id": "7afbdd8f",
   "metadata": {},
   "outputs": [
    {
     "data": {
      "image/png": "[encoded data removed]",
      "text/plain": [
       "<Figure size 1080x504 with 1 Axes>"
      ]
     },
     "metadata": {},
     "output_type": "display_data"
    }
   ],
   "source": [
    "subsample_values = [1.0, 0.9, 0.8, 0.7, 0.6, 0.5]\n",
    "\n",
    "plt.figure(figsize=(15, 7))\n",
    "plt.title(\"Varying subsample values for estimators\", fontsize=15)\n",
    "\n",
    "plt.grid(\"on\")\n",
    "\n",
    "def calc_score_for_varying_subsamples(subsample_values, mdept= 3, n_est=300, learningr=0.1):\n",
    "    rmse_values = []\n",
    "\n",
    "    for value in subsample_values:\n",
    "        gb_reg = GradientBoostingRegressor(max_depth=mdept, n_estimators=n_est, learning_rate=learningr, subsample=value, random_state=2)\n",
    "        gb_reg.fit(X_train, y_train)\n",
    "        y_pred = gb_reg.predict(X_test)\n",
    "        rmse_values.append(np.sqrt(MSE(y_test, y_pred)))\n",
    "    \n",
    "    return rmse_values\n",
    "\n",
    "rmse_values_300 = calc_score_for_varying_subsamples(subsample_values)\n",
    "\n",
    "plt.plot(subsample_values, rmse_values_300, label=\"rmse_values_300\")\n",
    "\n",
    "plt.xlabel(\"Subsample Values\")\n",
    "plt.ylabel(\"RMSE\")\n",
    "\n",
    "plt.legend()\n",
    "plt.show()"
   ]
  },
  {
   "cell_type": "markdown",
   "id": "04d4fbcf",
   "metadata": {},
   "source": [
    "A **subsample** value of **0.7** with 300 trees and max_depth of 3 produces the best score yet: **612.988**\n",
    "\n",
    "When subsample is not equal to 1.0, the model is classified as **stochastic gradient descent**, where stochastic indicates that some randomness is inherit in the model."
   ]
  },
  {
   "cell_type": "markdown",
   "id": "066d613f",
   "metadata": {},
   "source": [
    "#### Searching Further with RandomizedSearchCV\n",
    "\n",
    "Our preliminary analysis centered around `max_depth=3`, `subsample=0.7`, `n_estimators=300`, and `learning_rate=0.1` is a good place to start. Also we have already shown that as *n_estimators* goes up, *learning_rate* should go down."
   ]
  },
  {
   "cell_type": "code",
   "execution_count": 54,
   "id": "4a57afee",
   "metadata": {},
   "outputs": [
    {
     "name": "stdout",
     "output_type": "stream",
     "text": [
      "Best Params: {'subsample': 0.7, 'n_estimators': 1200, 'learning_rate': 0.03}\n",
      "Best Score: 633.085390802363\n",
      "Test Score: 598.581059029657\n"
     ]
    }
   ],
   "source": [
    "from sklearn.model_selection import RandomizedSearchCV\n",
    "\n",
    "params = {  'subsample': [0.7, 0.75, 0.8], \n",
    "            'n_estimators': [1200, 1600, 1800],\n",
    "            'learning_rate': [0.02, 0.03, 0.05]}\n",
    "\n",
    "gb_reg = GradientBoostingRegressor(max_depth=3, random_state=2)\n",
    "\n",
    "rand_reg = RandomizedSearchCV(gb_reg, params, n_iter=10, scoring=\"neg_mean_squared_error\", cv=5, n_jobs=-1, random_state=2)\n",
    "\n",
    "rand_reg.fit(X_train, y_train)\n",
    "\n",
    "best_model = rand_reg.best_estimator_\n",
    "best_params = rand_reg.best_params_\n",
    "print(f\"Best Params: {best_params}\")\n",
    "print(f\"Best Score: {np.sqrt(-rand_reg.best_score_)}\")\n",
    "\n",
    "y_pred =  best_model.predict(X_test)\n",
    "print(f\"Test Score: {np.sqrt(MSE(y_test, y_pred))}\")"
   ]
  },
  {
   "cell_type": "markdown",
   "id": "f21c0d66",
   "metadata": {},
   "source": [
    "With a larger value for **n_estimators** at 1200, a smaller **learning_rate** value at 0.03, we obtained the best *RMSE* yet at **598.58**"
   ]
  },
  {
   "cell_type": "markdown",
   "id": "e2468ae2",
   "metadata": {},
   "source": [
    "## Try with XGBoost\n",
    "\n",
    "The only difference in hyperparameters from the last section is that XGBoost refers to *learning_rate* as **eta**"
   ]
  },
  {
   "cell_type": "code",
   "execution_count": 55,
   "id": "f3c42b1b",
   "metadata": {},
   "outputs": [
    {
     "name": "stdout",
     "output_type": "stream",
     "text": [
      "Test Score: 588.9566690527543\n"
     ]
    }
   ],
   "source": [
    "from xgboost import XGBRegressor\n",
    "\n",
    "xg_reg = XGBRegressor(max_depth=3, n_estimators= 1200, eta=0.03, subsample=0.7, random_state=2)\n",
    "\n",
    "xg_reg.fit(X_train, y_train)\n",
    "\n",
    "y_pred = xg_reg.predict(X_test)\n",
    "\n",
    "print(f\"Test Score: {np.sqrt(MSE(y_test, y_pred))}\")"
   ]
  },
  {
   "cell_type": "markdown",
   "id": "188c86a5",
   "metadata": {},
   "source": [
    "The score is better. Accuracy and speed are two most important concepts when building machine learning models, and we have shown multiple times that XGBoost is very accurate.\n",
    "\n",
    "- XGBoost is preferred over gradient boosting in general because it consistently delivers better results, and because it's faster."
   ]
  },
  {
   "cell_type": "markdown",
   "id": "3cfee10c",
   "metadata": {},
   "source": [
    "## Approaching Big Data\n",
    "\n",
    "In this part, *exoplanets* dataset (from Kaggle - *kepler-labelled-time-series-data*, 2017) will be used. The dataset has 5,087 rows and 3,189 columns that record light flux at different times of a star's life cycle. Multiplying rows and columns together results in 1.5 million datapoints. Using a baseline of 100 trees, we need 150 million data points to build a model.\n",
    "\n",
    "- Each row is an individual star and columns reveals different light patterns over time.\n",
    "- An exoplanet column is labeled 2 if the star hosts an exoplanet, otherwise it is labeled 1.\n",
    "\n",
    "*Light Flux*: Percieved brightness of a star. When the light flux of an individual star changes periodically, it is possible that the star is being orbited by an exoplanet.\n",
    "\n",
    "**Important Note**: Finding exoplanets is rare. The predictive column, on whether a star hosts an exoplanet or not, has very few positive cases, resulting in an imbalanced dataset. Imbalanced datasets require extra precautions."
   ]
  },
  {
   "cell_type": "code",
   "execution_count": 56,
   "id": "5293cfdb",
   "metadata": {},
   "outputs": [
    {
     "data": {
      "text/html": [
       "<div>\n",
       "<style scoped>\n",
       "    .dataframe tbody tr th:only-of-type {\n",
       "        vertical-align: middle;\n",
       "    }\n",
       "\n",
       "    .dataframe tbody tr th {\n",
       "        vertical-align: top;\n",
       "    }\n",
       "\n",
       "    .dataframe thead th {\n",
       "        text-align: right;\n",
       "    }\n",
       "</style>\n",
       "<table border=\"1\" class=\"dataframe\">\n",
       "  <thead>\n",
       "    <tr style=\"text-align: right;\">\n",
       "      <th></th>\n",
       "      <th>LABEL</th>\n",
       "      <th>FLUX.1</th>\n",
       "      <th>FLUX.2</th>\n",
       "      <th>FLUX.3</th>\n",
       "      <th>FLUX.4</th>\n",
       "      <th>FLUX.5</th>\n",
       "      <th>FLUX.6</th>\n",
       "      <th>FLUX.7</th>\n",
       "      <th>FLUX.8</th>\n",
       "      <th>FLUX.9</th>\n",
       "      <th>...</th>\n",
       "      <th>FLUX.3188</th>\n",
       "      <th>FLUX.3189</th>\n",
       "      <th>FLUX.3190</th>\n",
       "      <th>FLUX.3191</th>\n",
       "      <th>FLUX.3192</th>\n",
       "      <th>FLUX.3193</th>\n",
       "      <th>FLUX.3194</th>\n",
       "      <th>FLUX.3195</th>\n",
       "      <th>FLUX.3196</th>\n",
       "      <th>FLUX.3197</th>\n",
       "    </tr>\n",
       "  </thead>\n",
       "  <tbody>\n",
       "    <tr>\n",
       "      <th>0</th>\n",
       "      <td>2</td>\n",
       "      <td>93.85</td>\n",
       "      <td>83.81</td>\n",
       "      <td>20.10</td>\n",
       "      <td>-26.98</td>\n",
       "      <td>-39.56</td>\n",
       "      <td>-124.71</td>\n",
       "      <td>-135.18</td>\n",
       "      <td>-96.27</td>\n",
       "      <td>-79.89</td>\n",
       "      <td>...</td>\n",
       "      <td>-78.07</td>\n",
       "      <td>-102.15</td>\n",
       "      <td>-102.15</td>\n",
       "      <td>25.13</td>\n",
       "      <td>48.57</td>\n",
       "      <td>92.54</td>\n",
       "      <td>39.32</td>\n",
       "      <td>61.42</td>\n",
       "      <td>5.08</td>\n",
       "      <td>-39.54</td>\n",
       "    </tr>\n",
       "    <tr>\n",
       "      <th>1</th>\n",
       "      <td>2</td>\n",
       "      <td>-38.88</td>\n",
       "      <td>-33.83</td>\n",
       "      <td>-58.54</td>\n",
       "      <td>-40.09</td>\n",
       "      <td>-79.31</td>\n",
       "      <td>-72.81</td>\n",
       "      <td>-86.55</td>\n",
       "      <td>-85.33</td>\n",
       "      <td>-83.97</td>\n",
       "      <td>...</td>\n",
       "      <td>-3.28</td>\n",
       "      <td>-32.21</td>\n",
       "      <td>-32.21</td>\n",
       "      <td>-24.89</td>\n",
       "      <td>-4.86</td>\n",
       "      <td>0.76</td>\n",
       "      <td>-11.70</td>\n",
       "      <td>6.46</td>\n",
       "      <td>16.00</td>\n",
       "      <td>19.93</td>\n",
       "    </tr>\n",
       "    <tr>\n",
       "      <th>2</th>\n",
       "      <td>2</td>\n",
       "      <td>532.64</td>\n",
       "      <td>535.92</td>\n",
       "      <td>513.73</td>\n",
       "      <td>496.92</td>\n",
       "      <td>456.45</td>\n",
       "      <td>466.00</td>\n",
       "      <td>464.50</td>\n",
       "      <td>486.39</td>\n",
       "      <td>436.56</td>\n",
       "      <td>...</td>\n",
       "      <td>-71.69</td>\n",
       "      <td>13.31</td>\n",
       "      <td>13.31</td>\n",
       "      <td>-29.89</td>\n",
       "      <td>-20.88</td>\n",
       "      <td>5.06</td>\n",
       "      <td>-11.80</td>\n",
       "      <td>-28.91</td>\n",
       "      <td>-70.02</td>\n",
       "      <td>-96.67</td>\n",
       "    </tr>\n",
       "    <tr>\n",
       "      <th>3</th>\n",
       "      <td>2</td>\n",
       "      <td>326.52</td>\n",
       "      <td>347.39</td>\n",
       "      <td>302.35</td>\n",
       "      <td>298.13</td>\n",
       "      <td>317.74</td>\n",
       "      <td>312.70</td>\n",
       "      <td>322.33</td>\n",
       "      <td>311.31</td>\n",
       "      <td>312.42</td>\n",
       "      <td>...</td>\n",
       "      <td>5.71</td>\n",
       "      <td>-3.73</td>\n",
       "      <td>-3.73</td>\n",
       "      <td>30.05</td>\n",
       "      <td>20.03</td>\n",
       "      <td>-12.67</td>\n",
       "      <td>-8.77</td>\n",
       "      <td>-17.31</td>\n",
       "      <td>-17.35</td>\n",
       "      <td>13.98</td>\n",
       "    </tr>\n",
       "    <tr>\n",
       "      <th>4</th>\n",
       "      <td>2</td>\n",
       "      <td>-1107.21</td>\n",
       "      <td>-1112.59</td>\n",
       "      <td>-1118.95</td>\n",
       "      <td>-1095.10</td>\n",
       "      <td>-1057.55</td>\n",
       "      <td>-1034.48</td>\n",
       "      <td>-998.34</td>\n",
       "      <td>-1022.71</td>\n",
       "      <td>-989.57</td>\n",
       "      <td>...</td>\n",
       "      <td>-594.37</td>\n",
       "      <td>-401.66</td>\n",
       "      <td>-401.66</td>\n",
       "      <td>-357.24</td>\n",
       "      <td>-443.76</td>\n",
       "      <td>-438.54</td>\n",
       "      <td>-399.71</td>\n",
       "      <td>-384.65</td>\n",
       "      <td>-411.79</td>\n",
       "      <td>-510.54</td>\n",
       "    </tr>\n",
       "  </tbody>\n",
       "</table>\n",
       "<p>5 rows × 3198 columns</p>\n",
       "</div>"
      ],
      "text/plain": [
       "   LABEL   FLUX.1   FLUX.2   FLUX.3   FLUX.4   FLUX.5   FLUX.6  FLUX.7  \\\n",
       "0      2    93.85    83.81    20.10   -26.98   -39.56  -124.71 -135.18   \n",
       "1      2   -38.88   -33.83   -58.54   -40.09   -79.31   -72.81  -86.55   \n",
       "2      2   532.64   535.92   513.73   496.92   456.45   466.00  464.50   \n",
       "3      2   326.52   347.39   302.35   298.13   317.74   312.70  322.33   \n",
       "4      2 -1107.21 -1112.59 -1118.95 -1095.10 -1057.55 -1034.48 -998.34   \n",
       "\n",
       "    FLUX.8  FLUX.9  ...  FLUX.3188  FLUX.3189  FLUX.3190  FLUX.3191  \\\n",
       "0   -96.27  -79.89  ...     -78.07    -102.15    -102.15      25.13   \n",
       "1   -85.33  -83.97  ...      -3.28     -32.21     -32.21     -24.89   \n",
       "2   486.39  436.56  ...     -71.69      13.31      13.31     -29.89   \n",
       "3   311.31  312.42  ...       5.71      -3.73      -3.73      30.05   \n",
       "4 -1022.71 -989.57  ...    -594.37    -401.66    -401.66    -357.24   \n",
       "\n",
       "   FLUX.3192  FLUX.3193  FLUX.3194  FLUX.3195  FLUX.3196  FLUX.3197  \n",
       "0      48.57      92.54      39.32      61.42       5.08     -39.54  \n",
       "1      -4.86       0.76     -11.70       6.46      16.00      19.93  \n",
       "2     -20.88       5.06     -11.80     -28.91     -70.02     -96.67  \n",
       "3      20.03     -12.67      -8.77     -17.31     -17.35      13.98  \n",
       "4    -443.76    -438.54    -399.71    -384.65    -411.79    -510.54  \n",
       "\n",
       "[5 rows x 3198 columns]"
      ]
     },
     "execution_count": 56,
     "metadata": {},
     "output_type": "execute_result"
    }
   ],
   "source": [
    "df_exo = pd.read_csv(\"data/exoplanets.csv\")\n",
    "df_exo.head()"
   ]
  },
  {
   "cell_type": "code",
   "execution_count": 57,
   "id": "bef8bafa",
   "metadata": {},
   "outputs": [
    {
     "name": "stdout",
     "output_type": "stream",
     "text": [
      "<class 'pandas.core.frame.DataFrame'>\n",
      "RangeIndex: 5087 entries, 0 to 5086\n",
      "Columns: 3198 entries, LABEL to FLUX.3197\n",
      "dtypes: float64(3197), int64(1)\n",
      "memory usage: 124.1 MB\n"
     ]
    }
   ],
   "source": [
    "df_exo.info()"
   ]
  },
  {
   "cell_type": "code",
   "execution_count": 58,
   "id": "c0fb765e",
   "metadata": {},
   "outputs": [
    {
     "data": {
      "text/plain": [
       "0"
      ]
     },
     "execution_count": 58,
     "metadata": {},
     "output_type": "execute_result"
    }
   ],
   "source": [
    "df_exo.isnull().sum().sum()"
   ]
  },
  {
   "cell_type": "markdown",
   "id": "079eac02",
   "metadata": {},
   "source": [
    "The output reveals that there are no null values. Since all columns are numerical with no null values, we may split the dataset into training and test sets. Note that the **0th** columns is the target column *y*, and all other columns are the predictor columns."
   ]
  },
  {
   "cell_type": "code",
   "execution_count": 59,
   "id": "3c791e38",
   "metadata": {},
   "outputs": [],
   "source": [
    "X = df_exo.iloc[:, 1:]\n",
    "y = df_exo.iloc[:, 0]\n",
    "\n",
    "X_train, X_test, y_train, y_test = train_test_split(X, y, random_state=2)"
   ]
  },
  {
   "cell_type": "markdown",
   "id": "e56fc713",
   "metadata": {},
   "source": [
    "It is now time to build a gradient boosting classifier to predict whether stars host exoplanets. \n",
    "\n",
    "- Gradient boosting classifiers work in the same manner as gradient boosting regressors. The difference is primarily in the scoring."
   ]
  },
  {
   "cell_type": "code",
   "execution_count": 60,
   "id": "dab95076",
   "metadata": {},
   "outputs": [],
   "source": [
    "from sklearn.ensemble import GradientBoostingClassifier\n",
    "from xgboost import XGBClassifier\n",
    "from sklearn.metrics import accuracy_score"
   ]
  },
  {
   "cell_type": "code",
   "execution_count": 61,
   "id": "aa242270",
   "metadata": {},
   "outputs": [
    {
     "name": "stdout",
     "output_type": "stream",
     "text": [
      "Score: 0.9874213836477987\n",
      "Run time: 235.8697280883789 seconds\n"
     ]
    }
   ],
   "source": [
    "import time\n",
    "\n",
    "start = time.time()\n",
    "\n",
    "gb_cls = GradientBoostingClassifier(n_estimators=100, max_depth=2, random_state=2)\n",
    "\n",
    "gb_cls.fit(X_train, y_train)\n",
    "\n",
    "y_pred = gb_cls.predict(X_test)\n",
    "\n",
    "score = accuracy_score(y_pred, y_test)\n",
    "\n",
    "print(f\"Score: {score}\")\n",
    "\n",
    "end = time.time()\n",
    "\n",
    "print(f\"Run time: {end - start} seconds\")\n"
   ]
  },
  {
   "cell_type": "markdown",
   "id": "3c540d92",
   "metadata": {},
   "source": [
    "**GradientBoostingClassifier** took around 4 minutes to run on 2017 MacBook Air. Not bad for 150 million data points on an older computer.\n",
    "\n",
    "- While a score of 98.7% percent is usually outsanding, this is not the case with imbalanced datasetes."
   ]
  },
  {
   "cell_type": "code",
   "execution_count": 62,
   "id": "0f02b3ee",
   "metadata": {},
   "outputs": [
    {
     "name": "stdout",
     "output_type": "stream",
     "text": [
      "[19:15:30] WARNING: ../src/learner.cc:1115: Starting in XGBoost 1.3.0, the default evaluation metric used with the objective 'binary:logistic' was changed from 'error' to 'logloss'. Explicitly set eval_metric if you'd like to restore the old behavior.\n",
      "Score: 0.9913522012578616\n",
      "Run time: 47.15296411514282 seconds\n"
     ]
    }
   ],
   "source": [
    "start = time.time()\n",
    "\n",
    "xg_cls = XGBClassifier(n_estimators=100, max_depth=2, random_state=2)\n",
    "xg_cls.fit(X_train, y_train)\n",
    "\n",
    "y_pred = xg_cls.predict(X_test)\n",
    "\n",
    "score = accuracy_score(y_test, y_pred)\n",
    "\n",
    "print(f\"Score: {score}\")\n",
    "\n",
    "end = time.time()\n",
    "\n",
    "print(f\"Run time: {end - start} seconds\")\n"
   ]
  },
  {
   "cell_type": "markdown",
   "id": "0bb2169a",
   "metadata": {},
   "source": [
    "In this computer setup (1,8 GHz Dual-Core Intel i5, 8GB Memory) the process took under a minute. Almost 5 times faster, and bit more accurate than *GradientBoostingClassifier*.\n",
    "\n",
    "- When it comes to big data, say an algorithm twice as fast can save weeks or months of computational time and resources. This advantage is huge. "
   ]
  }
 ],
 "metadata": {
  "kernelspec": {
   "display_name": "Python 3 (ipykernel)",
   "language": "python",
   "name": "python3"
  },
  "language_info": {
   "codemirror_mode": {
    "name": "ipython",
    "version": 3
   },
   "file_extension": ".py",
   "mimetype": "text/x-python",
   "name": "python",
   "nbconvert_exporter": "python",
   "pygments_lexer": "ipython3",
   "version": "3.8.0"
  }
 },
 "nbformat": 4,
 "nbformat_minor": 5
}
